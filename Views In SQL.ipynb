{
 "cells": [
  {
   "cell_type": "markdown",
   "id": "90b7df25",
   "metadata": {},
   "source": [
    "# How does the syntax of a CREATE VIEW statement look?\n",
    "\n",
    "* CREATE VIEW view_name AS\n",
    "* SELECT column1, column2, ...\n",
    "* FROM table_name\n",
    "* WHERE condition;"
   ]
  },
  {
   "cell_type": "markdown",
   "id": "b227a528",
   "metadata": {},
   "source": [
    "# How does the syntax of a REPLACE VIEW statement look?\n",
    "\n",
    "* CREATE OR REPLACE VIEW view_name AS\n",
    "* SELECT column1, column2, ...\n",
    "* FROM table_name\n",
    "* WHERE condition;"
   ]
  },
  {
   "cell_type": "markdown",
   "id": "261aecec",
   "metadata": {},
   "source": [
    "# How does the syntax of a DROP VIEW statement look?\n",
    "\n",
    "DROP VIEW view_name;\n"
   ]
  },
  {
   "cell_type": "code",
   "execution_count": 1,
   "id": "8253830b",
   "metadata": {},
   "outputs": [],
   "source": [
    "# Importning Liabraries\n",
    "import mysql.connector\n",
    "from mysql.connector import Error\n",
    "import pandas as pd\n",
    "import numpy as np\n",
    "import matplotlib.pyplot as plt\n",
    "import seaborn as sns"
   ]
  },
  {
   "cell_type": "code",
   "execution_count": 2,
   "id": "66c15b6c",
   "metadata": {},
   "outputs": [
    {
     "name": "stdout",
     "output_type": "stream",
     "text": [
      "Successfully connected to MySQL Database with server 8.0.26\n"
     ]
    }
   ],
   "source": [
    "# Making connection to the MySql Database\n",
    "conn = mysql.connector.connect(host='localhost',\n",
    "                               password='Tanmay@2002',\n",
    "                               user='root',\n",
    "                               database='sakila')\n",
    "# Checking the conection try and except block\n",
    "try:\n",
    "    if conn.is_connected():\n",
    "        db_info=conn.get_server_info()\n",
    "        print(\"Successfully connected to MySQL Database with server\",db_info)\n",
    "except Error as e:\n",
    "    print('Unable to connect to the database ):')"
   ]
  },
  {
   "cell_type": "code",
   "execution_count": 3,
   "id": "be62ed80",
   "metadata": {},
   "outputs": [],
   "source": [
    "#Making Cursor Object\n",
    "cursor = conn.cursor()"
   ]
  },
  {
   "cell_type": "code",
   "execution_count": 4,
   "id": "861a47f4",
   "metadata": {},
   "outputs": [
    {
     "data": {
      "text/html": [
       "<div>\n",
       "<style scoped>\n",
       "    .dataframe tbody tr th:only-of-type {\n",
       "        vertical-align: middle;\n",
       "    }\n",
       "\n",
       "    .dataframe tbody tr th {\n",
       "        vertical-align: top;\n",
       "    }\n",
       "\n",
       "    .dataframe thead th {\n",
       "        text-align: right;\n",
       "    }\n",
       "</style>\n",
       "<table border=\"1\" class=\"dataframe\">\n",
       "  <thead>\n",
       "    <tr style=\"text-align: right;\">\n",
       "      <th></th>\n",
       "      <th>actor_id</th>\n",
       "      <th>first_name</th>\n",
       "      <th>last_name</th>\n",
       "      <th>last_update</th>\n",
       "    </tr>\n",
       "  </thead>\n",
       "  <tbody>\n",
       "    <tr>\n",
       "      <th>0</th>\n",
       "      <td>1</td>\n",
       "      <td>PENELOPE</td>\n",
       "      <td>GUINESS</td>\n",
       "      <td>2006-02-15 04:34:33</td>\n",
       "    </tr>\n",
       "    <tr>\n",
       "      <th>1</th>\n",
       "      <td>2</td>\n",
       "      <td>NICK</td>\n",
       "      <td>WAHLBERG</td>\n",
       "      <td>2006-02-15 04:34:33</td>\n",
       "    </tr>\n",
       "    <tr>\n",
       "      <th>2</th>\n",
       "      <td>3</td>\n",
       "      <td>ED</td>\n",
       "      <td>CHASE</td>\n",
       "      <td>2006-02-15 04:34:33</td>\n",
       "    </tr>\n",
       "    <tr>\n",
       "      <th>3</th>\n",
       "      <td>4</td>\n",
       "      <td>JENNIFER</td>\n",
       "      <td>DAVIS</td>\n",
       "      <td>2006-02-15 04:34:33</td>\n",
       "    </tr>\n",
       "    <tr>\n",
       "      <th>4</th>\n",
       "      <td>5</td>\n",
       "      <td>JOHNNY</td>\n",
       "      <td>LOLLOBRIGIDA</td>\n",
       "      <td>2006-02-15 04:34:33</td>\n",
       "    </tr>\n",
       "  </tbody>\n",
       "</table>\n",
       "</div>"
      ],
      "text/plain": [
       "   actor_id first_name     last_name         last_update\n",
       "0         1   PENELOPE       GUINESS 2006-02-15 04:34:33\n",
       "1         2       NICK      WAHLBERG 2006-02-15 04:34:33\n",
       "2         3         ED         CHASE 2006-02-15 04:34:33\n",
       "3         4   JENNIFER         DAVIS 2006-02-15 04:34:33\n",
       "4         5     JOHNNY  LOLLOBRIGIDA 2006-02-15 04:34:33"
      ]
     },
     "execution_count": 4,
     "metadata": {},
     "output_type": "execute_result"
    }
   ],
   "source": [
    "df = pd.read_sql('select * from actor;',conn)\n",
    "df.head(5)"
   ]
  },
  {
   "cell_type": "markdown",
   "id": "59351f51",
   "metadata": {},
   "source": [
    "### Exercise 1: Create a View"
   ]
  },
  {
   "cell_type": "code",
   "execution_count": 11,
   "id": "9e095e22",
   "metadata": {},
   "outputs": [
    {
     "ename": "IndentationError",
     "evalue": "unexpected indent (<ipython-input-11-137c5dccb0ba>, line 2)",
     "output_type": "error",
     "traceback": [
      "\u001b[1;36m  File \u001b[1;32m\"<ipython-input-11-137c5dccb0ba>\"\u001b[1;36m, line \u001b[1;32m2\u001b[0m\n\u001b[1;33m    select first_name,last_name\u001b[0m\n\u001b[1;37m    ^\u001b[0m\n\u001b[1;31mIndentationError\u001b[0m\u001b[1;31m:\u001b[0m unexpected indent\n"
     ]
    }
   ],
   "source": [
    "#cursor.execute(\"\"\"create view actorinfo as\n",
    "                    select first_name,last_name\n",
    "                    from actor;\n",
    "                    \"\"\") "
   ]
  },
  {
   "cell_type": "code",
   "execution_count": 7,
   "id": "2508164b",
   "metadata": {},
   "outputs": [
    {
     "data": {
      "text/plain": [
       "[('PENELOPE', 'GUINESS'),\n",
       " ('NICK', 'WAHLBERG'),\n",
       " ('ED', 'CHASE'),\n",
       " ('JENNIFER', 'DAVIS'),\n",
       " ('JOHNNY', 'LOLLOBRIGIDA'),\n",
       " ('BETTE', 'NICHOLSON'),\n",
       " ('GRACE', 'MOSTEL'),\n",
       " ('MATTHEW', 'JOHANSSON'),\n",
       " ('JOE', 'SWANK'),\n",
       " ('CHRISTIAN', 'GABLE'),\n",
       " ('ZERO', 'CAGE'),\n",
       " ('KARL', 'BERRY'),\n",
       " ('UMA', 'WOOD'),\n",
       " ('VIVIEN', 'BERGEN'),\n",
       " ('CUBA', 'OLIVIER'),\n",
       " ('FRED', 'COSTNER'),\n",
       " ('HELEN', 'VOIGHT'),\n",
       " ('DAN', 'TORN'),\n",
       " ('BOB', 'FAWCETT'),\n",
       " ('LUCILLE', 'TRACY'),\n",
       " ('KIRSTEN', 'PALTROW'),\n",
       " ('ELVIS', 'MARX'),\n",
       " ('SANDRA', 'KILMER'),\n",
       " ('CAMERON', 'STREEP'),\n",
       " ('KEVIN', 'BLOOM'),\n",
       " ('RIP', 'CRAWFORD'),\n",
       " ('JULIA', 'MCQUEEN'),\n",
       " ('WOODY', 'HOFFMAN'),\n",
       " ('ALEC', 'WAYNE'),\n",
       " ('SANDRA', 'PECK'),\n",
       " ('SISSY', 'SOBIESKI'),\n",
       " ('TIM', 'HACKMAN'),\n",
       " ('MILLA', 'PECK'),\n",
       " ('AUDREY', 'OLIVIER'),\n",
       " ('JUDY', 'DEAN'),\n",
       " ('BURT', 'DUKAKIS'),\n",
       " ('VAL', 'BOLGER'),\n",
       " ('TOM', 'MCKELLEN'),\n",
       " ('GOLDIE', 'BRODY'),\n",
       " ('JOHNNY', 'CAGE'),\n",
       " ('JODIE', 'DEGENERES'),\n",
       " ('TOM', 'MIRANDA'),\n",
       " ('KIRK', 'JOVOVICH'),\n",
       " ('NICK', 'STALLONE'),\n",
       " ('REESE', 'KILMER'),\n",
       " ('PARKER', 'GOLDBERG'),\n",
       " ('JULIA', 'BARRYMORE'),\n",
       " ('FRANCES', 'DAY-LEWIS'),\n",
       " ('ANNE', 'CRONYN'),\n",
       " ('NATALIE', 'HOPKINS'),\n",
       " ('GARY', 'PHOENIX'),\n",
       " ('CARMEN', 'HUNT'),\n",
       " ('MENA', 'TEMPLE'),\n",
       " ('PENELOPE', 'PINKETT'),\n",
       " ('FAY', 'KILMER'),\n",
       " ('DAN', 'HARRIS'),\n",
       " ('JUDE', 'CRUISE'),\n",
       " ('CHRISTIAN', 'AKROYD'),\n",
       " ('DUSTIN', 'TAUTOU'),\n",
       " ('HENRY', 'BERRY'),\n",
       " ('CHRISTIAN', 'NEESON'),\n",
       " ('JAYNE', 'NEESON'),\n",
       " ('CAMERON', 'WRAY'),\n",
       " ('RAY', 'JOHANSSON'),\n",
       " ('ANGELA', 'HUDSON'),\n",
       " ('MARY', 'TANDY'),\n",
       " ('JESSICA', 'BAILEY'),\n",
       " ('RIP', 'WINSLET'),\n",
       " ('KENNETH', 'PALTROW'),\n",
       " ('MICHELLE', 'MCCONAUGHEY'),\n",
       " ('ADAM', 'GRANT'),\n",
       " ('SEAN', 'WILLIAMS'),\n",
       " ('GARY', 'PENN'),\n",
       " ('MILLA', 'KEITEL'),\n",
       " ('BURT', 'POSEY'),\n",
       " ('ANGELINA', 'ASTAIRE'),\n",
       " ('CARY', 'MCCONAUGHEY'),\n",
       " ('GROUCHO', 'SINATRA'),\n",
       " ('MAE', 'HOFFMAN'),\n",
       " ('RALPH', 'CRUZ'),\n",
       " ('SCARLETT', 'DAMON'),\n",
       " ('WOODY', 'JOLIE'),\n",
       " ('BEN', 'WILLIS'),\n",
       " ('JAMES', 'PITT'),\n",
       " ('MINNIE', 'ZELLWEGER'),\n",
       " ('GREG', 'CHAPLIN'),\n",
       " ('SPENCER', 'PECK'),\n",
       " ('KENNETH', 'PESCI'),\n",
       " ('CHARLIZE', 'DENCH'),\n",
       " ('SEAN', 'GUINESS'),\n",
       " ('CHRISTOPHER', 'BERRY'),\n",
       " ('KIRSTEN', 'AKROYD'),\n",
       " ('ELLEN', 'PRESLEY'),\n",
       " ('KENNETH', 'TORN'),\n",
       " ('DARYL', 'WAHLBERG'),\n",
       " ('GENE', 'WILLIS'),\n",
       " ('MEG', 'HAWKE'),\n",
       " ('CHRIS', 'BRIDGES'),\n",
       " ('JIM', 'MOSTEL'),\n",
       " ('SPENCER', 'DEPP'),\n",
       " ('SUSAN', 'DAVIS'),\n",
       " ('WALTER', 'TORN'),\n",
       " ('MATTHEW', 'LEIGH'),\n",
       " ('PENELOPE', 'CRONYN'),\n",
       " ('SIDNEY', 'CROWE'),\n",
       " ('GROUCHO', 'DUNST'),\n",
       " ('GINA', 'DEGENERES'),\n",
       " ('WARREN', 'NOLTE'),\n",
       " ('SYLVESTER', 'DERN'),\n",
       " ('SUSAN', 'DAVIS'),\n",
       " ('CAMERON', 'ZELLWEGER'),\n",
       " ('RUSSELL', 'BACALL'),\n",
       " ('MORGAN', 'HOPKINS'),\n",
       " ('MORGAN', 'MCDORMAND'),\n",
       " ('HARRISON', 'BALE'),\n",
       " ('DAN', 'STREEP'),\n",
       " ('RENEE', 'TRACY'),\n",
       " ('CUBA', 'ALLEN'),\n",
       " ('WARREN', 'JACKMAN'),\n",
       " ('PENELOPE', 'MONROE'),\n",
       " ('LIZA', 'BERGMAN'),\n",
       " ('SALMA', 'NOLTE'),\n",
       " ('JULIANNE', 'DENCH'),\n",
       " ('SCARLETT', 'BENING'),\n",
       " ('ALBERT', 'NOLTE'),\n",
       " ('FRANCES', 'TOMEI'),\n",
       " ('KEVIN', 'GARLAND'),\n",
       " ('CATE', 'MCQUEEN'),\n",
       " ('DARYL', 'CRAWFORD'),\n",
       " ('GRETA', 'KEITEL'),\n",
       " ('JANE', 'JACKMAN'),\n",
       " ('ADAM', 'HOPPER'),\n",
       " ('RICHARD', 'PENN'),\n",
       " ('GENE', 'HOPKINS'),\n",
       " ('RITA', 'REYNOLDS'),\n",
       " ('ED', 'MANSFIELD'),\n",
       " ('MORGAN', 'WILLIAMS'),\n",
       " ('LUCILLE', 'DEE'),\n",
       " ('EWAN', 'GOODING'),\n",
       " ('WHOOPI', 'HURT'),\n",
       " ('CATE', 'HARRIS'),\n",
       " ('JADA', 'RYDER'),\n",
       " ('RIVER', 'DEAN'),\n",
       " ('ANGELA', 'WITHERSPOON'),\n",
       " ('KIM', 'ALLEN'),\n",
       " ('ALBERT', 'JOHANSSON'),\n",
       " ('FAY', 'WINSLET'),\n",
       " ('EMILY', 'DEE'),\n",
       " ('RUSSELL', 'TEMPLE'),\n",
       " ('JAYNE', 'NOLTE'),\n",
       " ('GEOFFREY', 'HESTON'),\n",
       " ('BEN', 'HARRIS'),\n",
       " ('MINNIE', 'KILMER'),\n",
       " ('MERYL', 'GIBSON'),\n",
       " ('IAN', 'TANDY'),\n",
       " ('FAY', 'WOOD'),\n",
       " ('GRETA', 'MALDEN'),\n",
       " ('VIVIEN', 'BASINGER'),\n",
       " ('LAURA', 'BRODY'),\n",
       " ('CHRIS', 'DEPP'),\n",
       " ('HARVEY', 'HOPE'),\n",
       " ('OPRAH', 'KILMER'),\n",
       " ('CHRISTOPHER', 'WEST'),\n",
       " ('HUMPHREY', 'WILLIS'),\n",
       " ('AL', 'GARLAND'),\n",
       " ('NICK', 'DEGENERES'),\n",
       " ('LAURENCE', 'BULLOCK'),\n",
       " ('WILL', 'WILSON'),\n",
       " ('KENNETH', 'HOFFMAN'),\n",
       " ('MENA', 'HOPPER'),\n",
       " ('OLYMPIA', 'PFEIFFER'),\n",
       " ('GROUCHO', 'WILLIAMS'),\n",
       " ('ALAN', 'DREYFUSS'),\n",
       " ('MICHAEL', 'BENING'),\n",
       " ('WILLIAM', 'HACKMAN'),\n",
       " ('JON', 'CHASE'),\n",
       " ('GENE', 'MCKELLEN'),\n",
       " ('LISA', 'MONROE'),\n",
       " ('ED', 'GUINESS'),\n",
       " ('JEFF', 'SILVERSTONE'),\n",
       " ('MATTHEW', 'CARREY'),\n",
       " ('DEBBIE', 'AKROYD'),\n",
       " ('RUSSELL', 'CLOSE'),\n",
       " ('HUMPHREY', 'GARLAND'),\n",
       " ('MICHAEL', 'BOLGER'),\n",
       " ('JULIA', 'ZELLWEGER'),\n",
       " ('RENEE', 'BALL'),\n",
       " ('ROCK', 'DUKAKIS'),\n",
       " ('CUBA', 'BIRCH'),\n",
       " ('AUDREY', 'BAILEY'),\n",
       " ('GREGORY', 'GOODING'),\n",
       " ('JOHN', 'SUVARI'),\n",
       " ('BURT', 'TEMPLE'),\n",
       " ('MERYL', 'ALLEN'),\n",
       " ('JAYNE', 'SILVERSTONE'),\n",
       " ('BELA', 'WALKEN'),\n",
       " ('REESE', 'WEST'),\n",
       " ('MARY', 'KEITEL'),\n",
       " ('JULIA', 'FAWCETT'),\n",
       " ('THORA', 'TEMPLE')]"
      ]
     },
     "execution_count": 7,
     "metadata": {},
     "output_type": "execute_result"
    }
   ],
   "source": [
    "cursor.execute(\"\"\" select * from actorinfo\"\"\")\n",
    "result=cursor.fetchall()\n",
    "result"
   ]
  },
  {
   "cell_type": "code",
   "execution_count": 10,
   "id": "7902855b",
   "metadata": {},
   "outputs": [
    {
     "data": {
      "text/html": [
       "<div>\n",
       "<style scoped>\n",
       "    .dataframe tbody tr th:only-of-type {\n",
       "        vertical-align: middle;\n",
       "    }\n",
       "\n",
       "    .dataframe tbody tr th {\n",
       "        vertical-align: top;\n",
       "    }\n",
       "\n",
       "    .dataframe thead th {\n",
       "        text-align: right;\n",
       "    }\n",
       "</style>\n",
       "<table border=\"1\" class=\"dataframe\">\n",
       "  <thead>\n",
       "    <tr style=\"text-align: right;\">\n",
       "      <th></th>\n",
       "      <th>first_name</th>\n",
       "      <th>last_name</th>\n",
       "    </tr>\n",
       "  </thead>\n",
       "  <tbody>\n",
       "    <tr>\n",
       "      <th>0</th>\n",
       "      <td>PENELOPE</td>\n",
       "      <td>GUINESS</td>\n",
       "    </tr>\n",
       "    <tr>\n",
       "      <th>1</th>\n",
       "      <td>NICK</td>\n",
       "      <td>WAHLBERG</td>\n",
       "    </tr>\n",
       "    <tr>\n",
       "      <th>2</th>\n",
       "      <td>ED</td>\n",
       "      <td>CHASE</td>\n",
       "    </tr>\n",
       "    <tr>\n",
       "      <th>3</th>\n",
       "      <td>JENNIFER</td>\n",
       "      <td>DAVIS</td>\n",
       "    </tr>\n",
       "    <tr>\n",
       "      <th>4</th>\n",
       "      <td>JOHNNY</td>\n",
       "      <td>LOLLOBRIGIDA</td>\n",
       "    </tr>\n",
       "  </tbody>\n",
       "</table>\n",
       "</div>"
      ],
      "text/plain": [
       "  first_name     last_name\n",
       "0   PENELOPE       GUINESS\n",
       "1       NICK      WAHLBERG\n",
       "2         ED         CHASE\n",
       "3   JENNIFER         DAVIS\n",
       "4     JOHNNY  LOLLOBRIGIDA"
      ]
     },
     "execution_count": 10,
     "metadata": {},
     "output_type": "execute_result"
    }
   ],
   "source": [
    "result = pd.read_sql(\"\"\"select * from actorinfo\"\"\",conn)\n",
    "result.head(5)"
   ]
  },
  {
   "cell_type": "markdown",
   "id": "c61983e8",
   "metadata": {},
   "source": [
    "### Exercise 2:how to replace a view"
   ]
  },
  {
   "cell_type": "code",
   "execution_count": 14,
   "id": "7b62c54a",
   "metadata": {},
   "outputs": [],
   "source": [
    "cursor.execute(\"\"\" create or replace view actorinfo\n",
    "                    (f_name,l_name)\n",
    "                    as select first_name,last_name\n",
    "                    from actor; \"\"\")"
   ]
  },
  {
   "cell_type": "code",
   "execution_count": 17,
   "id": "b38a57a4",
   "metadata": {},
   "outputs": [
    {
     "data": {
      "text/html": [
       "<div>\n",
       "<style scoped>\n",
       "    .dataframe tbody tr th:only-of-type {\n",
       "        vertical-align: middle;\n",
       "    }\n",
       "\n",
       "    .dataframe tbody tr th {\n",
       "        vertical-align: top;\n",
       "    }\n",
       "\n",
       "    .dataframe thead th {\n",
       "        text-align: right;\n",
       "    }\n",
       "</style>\n",
       "<table border=\"1\" class=\"dataframe\">\n",
       "  <thead>\n",
       "    <tr style=\"text-align: right;\">\n",
       "      <th></th>\n",
       "      <th>f_name</th>\n",
       "      <th>l_name</th>\n",
       "    </tr>\n",
       "  </thead>\n",
       "  <tbody>\n",
       "    <tr>\n",
       "      <th>0</th>\n",
       "      <td>PENELOPE</td>\n",
       "      <td>GUINESS</td>\n",
       "    </tr>\n",
       "    <tr>\n",
       "      <th>1</th>\n",
       "      <td>NICK</td>\n",
       "      <td>WAHLBERG</td>\n",
       "    </tr>\n",
       "    <tr>\n",
       "      <th>2</th>\n",
       "      <td>ED</td>\n",
       "      <td>CHASE</td>\n",
       "    </tr>\n",
       "  </tbody>\n",
       "</table>\n",
       "</div>"
      ],
      "text/plain": [
       "     f_name    l_name\n",
       "0  PENELOPE   GUINESS\n",
       "1      NICK  WAHLBERG\n",
       "2        ED     CHASE"
      ]
     },
     "execution_count": 17,
     "metadata": {},
     "output_type": "execute_result"
    }
   ],
   "source": [
    "result = pd.read_sql(\"\"\" select * from actorinfo \"\"\",conn)\n",
    "result.head(3)"
   ]
  },
  {
   "cell_type": "markdown",
   "id": "2d37101f",
   "metadata": {},
   "source": [
    "### Exercise 3:how to delete a view"
   ]
  },
  {
   "cell_type": "code",
   "execution_count": 19,
   "id": "7403b38b",
   "metadata": {},
   "outputs": [],
   "source": [
    "cursor.execute(\"\"\" drop view actorinfo\"\"\")"
   ]
  },
  {
   "cell_type": "code",
   "execution_count": 20,
   "id": "8eac6c86",
   "metadata": {},
   "outputs": [
    {
     "data": {
      "text/plain": [
       "True"
      ]
     },
     "execution_count": 20,
     "metadata": {},
     "output_type": "execute_result"
    }
   ],
   "source": [
    "cursor.close()"
   ]
  },
  {
   "cell_type": "code",
   "execution_count": null,
   "id": "3a83773f",
   "metadata": {},
   "outputs": [],
   "source": []
  }
 ],
 "metadata": {
  "kernelspec": {
   "display_name": "Python 3",
   "language": "python",
   "name": "python3"
  },
  "language_info": {
   "codemirror_mode": {
    "name": "ipython",
    "version": 3
   },
   "file_extension": ".py",
   "mimetype": "text/x-python",
   "name": "python",
   "nbconvert_exporter": "python",
   "pygments_lexer": "ipython3",
   "version": "3.8.8"
  }
 },
 "nbformat": 4,
 "nbformat_minor": 5
}
