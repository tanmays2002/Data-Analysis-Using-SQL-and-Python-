{
 "cells": [
  {
   "cell_type": "code",
   "execution_count": 14,
   "id": "7a9c857e",
   "metadata": {},
   "outputs": [],
   "source": [
    "# Importing liabraries\n",
    "import mysql.connector\n",
    "from mysql.connector import Error"
   ]
  },
  {
   "cell_type": "code",
   "execution_count": 15,
   "id": "94bac1a5",
   "metadata": {},
   "outputs": [
    {
     "name": "stdout",
     "output_type": "stream",
     "text": [
      "You are conneted to MySQL with server 8.0.26\n"
     ]
    }
   ],
   "source": [
    "# Making connection\n",
    "conn = mysql.connector.connect(host = \"localhost\",\n",
    "                               password = \"Tanmay@2002\",\n",
    "                               user = \"root\",\n",
    "                               database=\"sakila\")\n",
    "\n",
    "# Checking Connection\n",
    "try:\n",
    "    if conn.is_connected():\n",
    "        db_info = conn.get_server_info()\n",
    "        print(\"You are conneted to MySQL with server\",db_info)\n",
    "except Error as e:\n",
    "    print(\"Unable to connect to the MySQL \")"
   ]
  },
  {
   "cell_type": "code",
   "execution_count": 16,
   "id": "2dd4ade0",
   "metadata": {},
   "outputs": [],
   "source": [
    "# Making Cursor Object\n",
    "cursor = conn.cursor()"
   ]
  },
  {
   "cell_type": "markdown",
   "id": "aace58d2",
   "metadata": {},
   "source": [
    "### Cross Join (Cartesian Join)"
   ]
  },
  {
   "cell_type": "markdown",
   "id": "54800ea0",
   "metadata": {},
   "source": [
    "#### Syntax\n",
    "* SELECT column_name(s)\n",
    "* FROM table1\n",
    "* CROSS JOIN table2;"
   ]
  },
  {
   "cell_type": "code",
   "execution_count": 21,
   "id": "aa9e6e24",
   "metadata": {},
   "outputs": [
    {
     "data": {
      "application/javascript": [
       "\n",
       "        if (window._pyforest_update_imports_cell) { window._pyforest_update_imports_cell('import pandas as pd'); }\n",
       "    "
      ],
      "text/plain": [
       "<IPython.core.display.Javascript object>"
      ]
     },
     "metadata": {},
     "output_type": "display_data"
    },
    {
     "data": {
      "text/html": [
       "<div>\n",
       "<style scoped>\n",
       "    .dataframe tbody tr th:only-of-type {\n",
       "        vertical-align: middle;\n",
       "    }\n",
       "\n",
       "    .dataframe tbody tr th {\n",
       "        vertical-align: top;\n",
       "    }\n",
       "\n",
       "    .dataframe thead th {\n",
       "        text-align: right;\n",
       "    }\n",
       "</style>\n",
       "<table border=\"1\" class=\"dataframe\">\n",
       "  <thead>\n",
       "    <tr style=\"text-align: right;\">\n",
       "      <th></th>\n",
       "      <th>first_name</th>\n",
       "      <th>film_info</th>\n",
       "    </tr>\n",
       "  </thead>\n",
       "  <tbody>\n",
       "    <tr>\n",
       "      <th>0</th>\n",
       "      <td>THORA</td>\n",
       "      <td>Animation: ANACONDA CONFESSIONS; Children: LAN...</td>\n",
       "    </tr>\n",
       "    <tr>\n",
       "      <th>1</th>\n",
       "      <td>JULIA</td>\n",
       "      <td>Animation: ANACONDA CONFESSIONS; Children: LAN...</td>\n",
       "    </tr>\n",
       "    <tr>\n",
       "      <th>2</th>\n",
       "      <td>MARY</td>\n",
       "      <td>Animation: ANACONDA CONFESSIONS; Children: LAN...</td>\n",
       "    </tr>\n",
       "    <tr>\n",
       "      <th>3</th>\n",
       "      <td>REESE</td>\n",
       "      <td>Animation: ANACONDA CONFESSIONS; Children: LAN...</td>\n",
       "    </tr>\n",
       "    <tr>\n",
       "      <th>4</th>\n",
       "      <td>BELA</td>\n",
       "      <td>Animation: ANACONDA CONFESSIONS; Children: LAN...</td>\n",
       "    </tr>\n",
       "    <tr>\n",
       "      <th>...</th>\n",
       "      <td>...</td>\n",
       "      <td>...</td>\n",
       "    </tr>\n",
       "    <tr>\n",
       "      <th>39995</th>\n",
       "      <td>JOHNNY</td>\n",
       "      <td>Animation: CAROL TEXAS; Children: CHRISTMAS MO...</td>\n",
       "    </tr>\n",
       "    <tr>\n",
       "      <th>39996</th>\n",
       "      <td>JENNIFER</td>\n",
       "      <td>Animation: CAROL TEXAS; Children: CHRISTMAS MO...</td>\n",
       "    </tr>\n",
       "    <tr>\n",
       "      <th>39997</th>\n",
       "      <td>ED</td>\n",
       "      <td>Animation: CAROL TEXAS; Children: CHRISTMAS MO...</td>\n",
       "    </tr>\n",
       "    <tr>\n",
       "      <th>39998</th>\n",
       "      <td>NICK</td>\n",
       "      <td>Animation: CAROL TEXAS; Children: CHRISTMAS MO...</td>\n",
       "    </tr>\n",
       "    <tr>\n",
       "      <th>39999</th>\n",
       "      <td>PENELOPE</td>\n",
       "      <td>Animation: CAROL TEXAS; Children: CHRISTMAS MO...</td>\n",
       "    </tr>\n",
       "  </tbody>\n",
       "</table>\n",
       "<p>40000 rows × 2 columns</p>\n",
       "</div>"
      ],
      "text/plain": [
       "      first_name                                          film_info\n",
       "0          THORA  Animation: ANACONDA CONFESSIONS; Children: LAN...\n",
       "1          JULIA  Animation: ANACONDA CONFESSIONS; Children: LAN...\n",
       "2           MARY  Animation: ANACONDA CONFESSIONS; Children: LAN...\n",
       "3          REESE  Animation: ANACONDA CONFESSIONS; Children: LAN...\n",
       "4           BELA  Animation: ANACONDA CONFESSIONS; Children: LAN...\n",
       "...          ...                                                ...\n",
       "39995     JOHNNY  Animation: CAROL TEXAS; Children: CHRISTMAS MO...\n",
       "39996   JENNIFER  Animation: CAROL TEXAS; Children: CHRISTMAS MO...\n",
       "39997         ED  Animation: CAROL TEXAS; Children: CHRISTMAS MO...\n",
       "39998       NICK  Animation: CAROL TEXAS; Children: CHRISTMAS MO...\n",
       "39999   PENELOPE  Animation: CAROL TEXAS; Children: CHRISTMAS MO...\n",
       "\n",
       "[40000 rows x 2 columns]"
      ]
     },
     "execution_count": 21,
     "metadata": {},
     "output_type": "execute_result"
    }
   ],
   "source": [
    "#The CROSS JOIN keyword returns all records from both tables (table1 and table2).\n",
    "pd.read_sql(\"\"\"select actor.first_name,actor_info.film_info\n",
    "                    from actor\n",
    "                    cross join actor_info;\"\"\",conn)"
   ]
  },
  {
   "cell_type": "markdown",
   "id": "2528142f",
   "metadata": {},
   "source": [
    "## Inner Join\n",
    "* SELECT column_name(s)\n",
    "* FROM table1\n",
    "* INNER JOIN table2\n",
    "* ON table1.column_name = table2.column_name;\n",
    "* WHERE condition;"
   ]
  },
  {
   "cell_type": "code",
   "execution_count": 24,
   "id": "37507ac8",
   "metadata": {},
   "outputs": [
    {
     "data": {
      "application/javascript": [
       "\n",
       "        if (window._pyforest_update_imports_cell) { window._pyforest_update_imports_cell('import pandas as pd'); }\n",
       "    "
      ],
      "text/plain": [
       "<IPython.core.display.Javascript object>"
      ]
     },
     "metadata": {},
     "output_type": "display_data"
    },
    {
     "data": {
      "text/html": [
       "<div>\n",
       "<style scoped>\n",
       "    .dataframe tbody tr th:only-of-type {\n",
       "        vertical-align: middle;\n",
       "    }\n",
       "\n",
       "    .dataframe tbody tr th {\n",
       "        vertical-align: top;\n",
       "    }\n",
       "\n",
       "    .dataframe thead th {\n",
       "        text-align: right;\n",
       "    }\n",
       "</style>\n",
       "<table border=\"1\" class=\"dataframe\">\n",
       "  <thead>\n",
       "    <tr style=\"text-align: right;\">\n",
       "      <th></th>\n",
       "      <th>amount</th>\n",
       "      <th>rental_date</th>\n",
       "    </tr>\n",
       "  </thead>\n",
       "  <tbody>\n",
       "    <tr>\n",
       "      <th>0</th>\n",
       "      <td>3.98</td>\n",
       "      <td>2005-06-18 21:26:56</td>\n",
       "    </tr>\n",
       "    <tr>\n",
       "      <th>1</th>\n",
       "      <td>3.98</td>\n",
       "      <td>2005-06-20 05:15:37</td>\n",
       "    </tr>\n",
       "    <tr>\n",
       "      <th>2</th>\n",
       "      <td>3.98</td>\n",
       "      <td>2005-06-20 22:52:18</td>\n",
       "    </tr>\n",
       "    <tr>\n",
       "      <th>3</th>\n",
       "      <td>3.98</td>\n",
       "      <td>2005-07-06 02:29:21</td>\n",
       "    </tr>\n",
       "    <tr>\n",
       "      <th>4</th>\n",
       "      <td>3.98</td>\n",
       "      <td>2005-07-07 07:26:19</td>\n",
       "    </tr>\n",
       "    <tr>\n",
       "      <th>...</th>\n",
       "      <td>...</td>\n",
       "      <td>...</td>\n",
       "    </tr>\n",
       "    <tr>\n",
       "      <th>246313</th>\n",
       "      <td>11.99</td>\n",
       "      <td>2005-08-18 17:24:15</td>\n",
       "    </tr>\n",
       "    <tr>\n",
       "      <th>246314</th>\n",
       "      <td>11.99</td>\n",
       "      <td>2005-08-19 06:52:58</td>\n",
       "    </tr>\n",
       "    <tr>\n",
       "      <th>246315</th>\n",
       "      <td>11.99</td>\n",
       "      <td>2005-08-19 13:12:28</td>\n",
       "    </tr>\n",
       "    <tr>\n",
       "      <th>246316</th>\n",
       "      <td>11.99</td>\n",
       "      <td>2005-08-20 08:11:58</td>\n",
       "    </tr>\n",
       "    <tr>\n",
       "      <th>246317</th>\n",
       "      <td>11.99</td>\n",
       "      <td>2006-02-14 15:16:03</td>\n",
       "    </tr>\n",
       "  </tbody>\n",
       "</table>\n",
       "<p>246318 rows × 2 columns</p>\n",
       "</div>"
      ],
      "text/plain": [
       "        amount         rental_date\n",
       "0         3.98 2005-06-18 21:26:56\n",
       "1         3.98 2005-06-20 05:15:37\n",
       "2         3.98 2005-06-20 22:52:18\n",
       "3         3.98 2005-07-06 02:29:21\n",
       "4         3.98 2005-07-07 07:26:19\n",
       "...        ...                 ...\n",
       "246313   11.99 2005-08-18 17:24:15\n",
       "246314   11.99 2005-08-19 06:52:58\n",
       "246315   11.99 2005-08-19 13:12:28\n",
       "246316   11.99 2005-08-20 08:11:58\n",
       "246317   11.99 2006-02-14 15:16:03\n",
       "\n",
       "[246318 rows x 2 columns]"
      ]
     },
     "execution_count": 24,
     "metadata": {},
     "output_type": "execute_result"
    }
   ],
   "source": [
    "#The INNER JOIN keyword selects records that have matching values in both tables.\n",
    "pd.read_sql(\"\"\"select payment.amount,rental.rental_date\n",
    "                    from payment\n",
    "                    inner join rental\n",
    "                    on payment.customer_id = rental.customer_id\n",
    "                    where amount > 2.99\n",
    "                    order by amount;\n",
    "                \"\"\",conn)"
   ]
  },
  {
   "cell_type": "markdown",
   "id": "04b72f6e",
   "metadata": {},
   "source": [
    "# Left Outer Join\n",
    "* SELECT column_name(s)\n",
    "* FROM table1\n",
    "* LEFT OUTER JOIN table2\n",
    "* ON table1.column_name = table2.column_name\n",
    "* WHERE condition;"
   ]
  },
  {
   "cell_type": "code",
   "execution_count": 27,
   "id": "c7ac29d2",
   "metadata": {},
   "outputs": [
    {
     "data": {
      "application/javascript": [
       "\n",
       "        if (window._pyforest_update_imports_cell) { window._pyforest_update_imports_cell('import pandas as pd'); }\n",
       "    "
      ],
      "text/plain": [
       "<IPython.core.display.Javascript object>"
      ]
     },
     "metadata": {},
     "output_type": "display_data"
    },
    {
     "data": {
      "text/html": [
       "<div>\n",
       "<style scoped>\n",
       "    .dataframe tbody tr th:only-of-type {\n",
       "        vertical-align: middle;\n",
       "    }\n",
       "\n",
       "    .dataframe tbody tr th {\n",
       "        vertical-align: top;\n",
       "    }\n",
       "\n",
       "    .dataframe thead th {\n",
       "        text-align: right;\n",
       "    }\n",
       "</style>\n",
       "<table border=\"1\" class=\"dataframe\">\n",
       "  <thead>\n",
       "    <tr style=\"text-align: right;\">\n",
       "      <th></th>\n",
       "      <th>title</th>\n",
       "      <th>description</th>\n",
       "      <th>film_id</th>\n",
       "    </tr>\n",
       "  </thead>\n",
       "  <tbody>\n",
       "    <tr>\n",
       "      <th>0</th>\n",
       "      <td>ACADEMY DINOSAUR</td>\n",
       "      <td>A Epic Drama of a Feminist And a Mad Scientist...</td>\n",
       "      <td>1</td>\n",
       "    </tr>\n",
       "    <tr>\n",
       "      <th>1</th>\n",
       "      <td>ACE GOLDFINGER</td>\n",
       "      <td>A Astounding Epistle of a Database Administrat...</td>\n",
       "      <td>2</td>\n",
       "    </tr>\n",
       "    <tr>\n",
       "      <th>2</th>\n",
       "      <td>ADAPTATION HOLES</td>\n",
       "      <td>A Astounding Reflection of a Lumberjack And a ...</td>\n",
       "      <td>3</td>\n",
       "    </tr>\n",
       "    <tr>\n",
       "      <th>3</th>\n",
       "      <td>AFFAIR PREJUDICE</td>\n",
       "      <td>A Fanciful Documentary of a Frisbee And a Lumb...</td>\n",
       "      <td>4</td>\n",
       "    </tr>\n",
       "    <tr>\n",
       "      <th>4</th>\n",
       "      <td>AFRICAN EGG</td>\n",
       "      <td>A Fast-Paced Documentary of a Pastry Chef And ...</td>\n",
       "      <td>5</td>\n",
       "    </tr>\n",
       "    <tr>\n",
       "      <th>...</th>\n",
       "      <td>...</td>\n",
       "      <td>...</td>\n",
       "      <td>...</td>\n",
       "    </tr>\n",
       "    <tr>\n",
       "      <th>995</th>\n",
       "      <td>YOUNG LANGUAGE</td>\n",
       "      <td>A Unbelieveable Yarn of a Boat And a Database ...</td>\n",
       "      <td>996</td>\n",
       "    </tr>\n",
       "    <tr>\n",
       "      <th>996</th>\n",
       "      <td>YOUTH KICK</td>\n",
       "      <td>A Touching Drama of a Teacher And a Cat who mu...</td>\n",
       "      <td>997</td>\n",
       "    </tr>\n",
       "    <tr>\n",
       "      <th>997</th>\n",
       "      <td>ZHIVAGO CORE</td>\n",
       "      <td>A Fateful Yarn of a Composer And a Man who mus...</td>\n",
       "      <td>998</td>\n",
       "    </tr>\n",
       "    <tr>\n",
       "      <th>998</th>\n",
       "      <td>ZOOLANDER FICTION</td>\n",
       "      <td>A Fateful Reflection of a Waitress And a Boat ...</td>\n",
       "      <td>999</td>\n",
       "    </tr>\n",
       "    <tr>\n",
       "      <th>999</th>\n",
       "      <td>ZORRO ARK</td>\n",
       "      <td>A Intrepid Panorama of a Mad Scientist And a B...</td>\n",
       "      <td>1000</td>\n",
       "    </tr>\n",
       "  </tbody>\n",
       "</table>\n",
       "<p>1000 rows × 3 columns</p>\n",
       "</div>"
      ],
      "text/plain": [
       "                 title                                        description  film_id\n",
       "0     ACADEMY DINOSAUR  A Epic Drama of a Feminist And a Mad Scientist...        1\n",
       "1       ACE GOLDFINGER  A Astounding Epistle of a Database Administrat...        2\n",
       "2     ADAPTATION HOLES  A Astounding Reflection of a Lumberjack And a ...        3\n",
       "3     AFFAIR PREJUDICE  A Fanciful Documentary of a Frisbee And a Lumb...        4\n",
       "4          AFRICAN EGG  A Fast-Paced Documentary of a Pastry Chef And ...        5\n",
       "..                 ...                                                ...      ...\n",
       "995     YOUNG LANGUAGE  A Unbelieveable Yarn of a Boat And a Database ...      996\n",
       "996         YOUTH KICK  A Touching Drama of a Teacher And a Cat who mu...      997\n",
       "997       ZHIVAGO CORE  A Fateful Yarn of a Composer And a Man who mus...      998\n",
       "998  ZOOLANDER FICTION  A Fateful Reflection of a Waitress And a Boat ...      999\n",
       "999          ZORRO ARK  A Intrepid Panorama of a Mad Scientist And a B...     1000\n",
       "\n",
       "[1000 rows x 3 columns]"
      ]
     },
     "execution_count": 27,
     "metadata": {},
     "output_type": "execute_result"
    }
   ],
   "source": [
    "#The LEFT JOIN keyword returns all records from the left table (table1), and the matching records (if any)\n",
    "#from the right table (table2).\n",
    "pd.read_sql(\"\"\"select film_text.title,film_text.description,film_category.film_id\n",
    "                        from film_text\n",
    "                        left outer join film_category\n",
    "                        on film_text.film_id = film_category.film_id;\"\"\",conn)"
   ]
  },
  {
   "cell_type": "markdown",
   "id": "11004eaa",
   "metadata": {},
   "source": [
    "# Right Outer Join\n",
    "* SELECT column_name(s)\n",
    "* FROM table1\n",
    "* RIGHT OUTER JOIN table2\n",
    "* ON table1.column_name = table2.column_name\n",
    "* WHERE condition;"
   ]
  },
  {
   "cell_type": "code",
   "execution_count": 30,
   "id": "ffe10552",
   "metadata": {},
   "outputs": [
    {
     "data": {
      "application/javascript": [
       "\n",
       "        if (window._pyforest_update_imports_cell) { window._pyforest_update_imports_cell('import pandas as pd'); }\n",
       "    "
      ],
      "text/plain": [
       "<IPython.core.display.Javascript object>"
      ]
     },
     "metadata": {},
     "output_type": "display_data"
    },
    {
     "data": {
      "text/html": [
       "<div>\n",
       "<style scoped>\n",
       "    .dataframe tbody tr th:only-of-type {\n",
       "        vertical-align: middle;\n",
       "    }\n",
       "\n",
       "    .dataframe tbody tr th {\n",
       "        vertical-align: top;\n",
       "    }\n",
       "\n",
       "    .dataframe thead th {\n",
       "        text-align: right;\n",
       "    }\n",
       "</style>\n",
       "<table border=\"1\" class=\"dataframe\">\n",
       "  <thead>\n",
       "    <tr style=\"text-align: right;\">\n",
       "      <th></th>\n",
       "      <th>title</th>\n",
       "      <th>description</th>\n",
       "      <th>film_id</th>\n",
       "    </tr>\n",
       "  </thead>\n",
       "  <tbody>\n",
       "    <tr>\n",
       "      <th>0</th>\n",
       "      <td>AMADEUS HOLY</td>\n",
       "      <td>A Emotional Display of a Pioneer And a Technic...</td>\n",
       "      <td>19</td>\n",
       "    </tr>\n",
       "    <tr>\n",
       "      <th>1</th>\n",
       "      <td>AMERICAN CIRCUS</td>\n",
       "      <td>A Insightful Drama of a Girl And a Astronaut w...</td>\n",
       "      <td>21</td>\n",
       "    </tr>\n",
       "    <tr>\n",
       "      <th>2</th>\n",
       "      <td>ANTITRUST TOMATOES</td>\n",
       "      <td>A Fateful Yarn of a Womanizer And a Feminist w...</td>\n",
       "      <td>29</td>\n",
       "    </tr>\n",
       "    <tr>\n",
       "      <th>3</th>\n",
       "      <td>ARK RIDGEMONT</td>\n",
       "      <td>A Beautiful Yarn of a Pioneer And a Monkey who...</td>\n",
       "      <td>38</td>\n",
       "    </tr>\n",
       "    <tr>\n",
       "      <th>4</th>\n",
       "      <td>BAREFOOT MANCHURIAN</td>\n",
       "      <td>A Intrepid Story of a Cat And a Student who mu...</td>\n",
       "      <td>56</td>\n",
       "    </tr>\n",
       "    <tr>\n",
       "      <th>...</th>\n",
       "      <td>...</td>\n",
       "      <td>...</td>\n",
       "      <td>...</td>\n",
       "    </tr>\n",
       "    <tr>\n",
       "      <th>995</th>\n",
       "      <td>VALENTINE VANISHING</td>\n",
       "      <td>A Thrilling Display of a Husband And a Butler ...</td>\n",
       "      <td>931</td>\n",
       "    </tr>\n",
       "    <tr>\n",
       "      <th>996</th>\n",
       "      <td>WINDOW SIDE</td>\n",
       "      <td>A Astounding Character Study of a Womanizer An...</td>\n",
       "      <td>977</td>\n",
       "    </tr>\n",
       "    <tr>\n",
       "      <th>997</th>\n",
       "      <td>WOLVES DESIRE</td>\n",
       "      <td>A Fast-Paced Drama of a Squirrel And a Robot w...</td>\n",
       "      <td>981</td>\n",
       "    </tr>\n",
       "    <tr>\n",
       "      <th>998</th>\n",
       "      <td>WORKER TARZAN</td>\n",
       "      <td>A Action-Packed Yarn of a Secret Agent And a T...</td>\n",
       "      <td>988</td>\n",
       "    </tr>\n",
       "    <tr>\n",
       "      <th>999</th>\n",
       "      <td>WORKING MICROCOSMOS</td>\n",
       "      <td>A Stunning Epistle of a Dentist And a Dog who ...</td>\n",
       "      <td>989</td>\n",
       "    </tr>\n",
       "  </tbody>\n",
       "</table>\n",
       "<p>1000 rows × 3 columns</p>\n",
       "</div>"
      ],
      "text/plain": [
       "                   title                                        description  film_id\n",
       "0           AMADEUS HOLY  A Emotional Display of a Pioneer And a Technic...       19\n",
       "1        AMERICAN CIRCUS  A Insightful Drama of a Girl And a Astronaut w...       21\n",
       "2     ANTITRUST TOMATOES  A Fateful Yarn of a Womanizer And a Feminist w...       29\n",
       "3          ARK RIDGEMONT  A Beautiful Yarn of a Pioneer And a Monkey who...       38\n",
       "4    BAREFOOT MANCHURIAN  A Intrepid Story of a Cat And a Student who mu...       56\n",
       "..                   ...                                                ...      ...\n",
       "995  VALENTINE VANISHING  A Thrilling Display of a Husband And a Butler ...      931\n",
       "996          WINDOW SIDE  A Astounding Character Study of a Womanizer An...      977\n",
       "997        WOLVES DESIRE  A Fast-Paced Drama of a Squirrel And a Robot w...      981\n",
       "998        WORKER TARZAN  A Action-Packed Yarn of a Secret Agent And a T...      988\n",
       "999  WORKING MICROCOSMOS  A Stunning Epistle of a Dentist And a Dog who ...      989\n",
       "\n",
       "[1000 rows x 3 columns]"
      ]
     },
     "execution_count": 30,
     "metadata": {},
     "output_type": "execute_result"
    }
   ],
   "source": [
    "#The RIGHT JOIN keyword returns all records from the right table (table2), and the matching records (if any) from the left table (table1).\n",
    "pd.read_sql(\"\"\"select film_text.title,film_text.description,film_category.film_id\n",
    "                        from film_text\n",
    "                        right outer join film_category\n",
    "                        on film_text.film_id = film_category.film_id;\"\"\",conn)"
   ]
  },
  {
   "cell_type": "markdown",
   "id": "0a04056c",
   "metadata": {},
   "source": [
    "# Full Outer Join\n",
    "* SELECT column_name(s)\n",
    "* FROM table1\n",
    "* FULL OUTER JOIN table2\n",
    "* ON table1.column_name = table2.column_name\n",
    "* WHERE condition;"
   ]
  },
  {
   "cell_type": "code",
   "execution_count": null,
   "id": "8a46d853",
   "metadata": {},
   "outputs": [],
   "source": []
  }
 ],
 "metadata": {
  "kernelspec": {
   "display_name": "Python 3",
   "language": "python",
   "name": "python3"
  },
  "language_info": {
   "codemirror_mode": {
    "name": "ipython",
    "version": 3
   },
   "file_extension": ".py",
   "mimetype": "text/x-python",
   "name": "python",
   "nbconvert_exporter": "python",
   "pygments_lexer": "ipython3",
   "version": "3.8.8"
  }
 },
 "nbformat": 4,
 "nbformat_minor": 5
}
