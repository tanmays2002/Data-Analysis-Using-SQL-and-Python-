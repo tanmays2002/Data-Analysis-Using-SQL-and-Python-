{
 "cells": [
  {
   "cell_type": "code",
   "execution_count": 15,
   "id": "aee64310",
   "metadata": {},
   "outputs": [],
   "source": [
    "# importing Liabraries\n",
    "import mysql.connector\n",
    "from mysql.connector import Error\n",
    "import pandas as pd\n",
    "import numpy as np\n",
    "import matplotlib.pyplot as plt\n",
    "import seaborn as sns"
   ]
  },
  {
   "cell_type": "code",
   "execution_count": 16,
   "id": "3f336c29",
   "metadata": {},
   "outputs": [
    {
     "name": "stdout",
     "output_type": "stream",
     "text": [
      "Your are connected to the MySQL database with server 8.0.26\n"
     ]
    }
   ],
   "source": [
    "# Making Connection\n",
    "conn = mysql.connector.connect(user = 'root',\n",
    "                               password = 'Tanmay@2002',\n",
    "                               host = 'localhost',\n",
    "                               database = 'world')\n",
    "\n",
    "# Checking connection with try and except block\n",
    "try:\n",
    "    if conn.is_connected():\n",
    "        db_info = conn.get_server_info()\n",
    "        print(\"Your are connected to the MySQL database with server\",db_info)\n",
    "        \n",
    "except Error as e:\n",
    "    print(\"Unable to connect the database\",e)"
   ]
  },
  {
   "cell_type": "code",
   "execution_count": 17,
   "id": "ed936737",
   "metadata": {},
   "outputs": [],
   "source": [
    "# Making Cursor Object\n",
    "cursor = conn.cursor(buffered=True)"
   ]
  },
  {
   "cell_type": "code",
   "execution_count": 18,
   "id": "5f2d0837",
   "metadata": {},
   "outputs": [
    {
     "data": {
      "text/plain": [
       "[('book',),\n",
       " ('chicagopublicschools',),\n",
       " ('city',),\n",
       " ('country',),\n",
       " ('countrylanguage',),\n",
       " ('notebook',),\n",
       " ('pet',)]"
      ]
     },
     "execution_count": 18,
     "metadata": {},
     "output_type": "execute_result"
    }
   ],
   "source": [
    "# Running Quarries and Result\n",
    "cursor.execute('show tables')\n",
    "result = cursor.fetchall()\n",
    "result"
   ]
  },
  {
   "cell_type": "code",
   "execution_count": 19,
   "id": "b19e3ebd",
   "metadata": {},
   "outputs": [
    {
     "data": {
      "text/html": [
       "<div>\n",
       "<style scoped>\n",
       "    .dataframe tbody tr th:only-of-type {\n",
       "        vertical-align: middle;\n",
       "    }\n",
       "\n",
       "    .dataframe tbody tr th {\n",
       "        vertical-align: top;\n",
       "    }\n",
       "\n",
       "    .dataframe thead th {\n",
       "        text-align: right;\n",
       "    }\n",
       "</style>\n",
       "<table border=\"1\" class=\"dataframe\">\n",
       "  <thead>\n",
       "    <tr style=\"text-align: right;\">\n",
       "      <th></th>\n",
       "      <th>School_ID</th>\n",
       "      <th>NAME_OF_SCHOOL</th>\n",
       "      <th>Elementary, Middle, or High School</th>\n",
       "      <th>Street_Address</th>\n",
       "      <th>City</th>\n",
       "      <th>State</th>\n",
       "      <th>ZIP_Code</th>\n",
       "      <th>Phone_Number</th>\n",
       "      <th>Link</th>\n",
       "      <th>Network_Manager</th>\n",
       "      <th>...</th>\n",
       "      <th>Freshman_on_Track_Rate__</th>\n",
       "      <th>X_COORDINATE</th>\n",
       "      <th>Y_COORDINATE</th>\n",
       "      <th>Latitude</th>\n",
       "      <th>Longitude</th>\n",
       "      <th>COMMUNITY_AREA_NUMBER</th>\n",
       "      <th>COMMUNITY_AREA_NAME</th>\n",
       "      <th>Ward</th>\n",
       "      <th>Police_District</th>\n",
       "      <th>Location</th>\n",
       "    </tr>\n",
       "  </thead>\n",
       "  <tbody>\n",
       "    <tr>\n",
       "      <th>0</th>\n",
       "      <td>610038</td>\n",
       "      <td>Abraham Lincoln Elementary School</td>\n",
       "      <td>ES</td>\n",
       "      <td>615 W Kemper Pl</td>\n",
       "      <td>Chicago</td>\n",
       "      <td>IL</td>\n",
       "      <td>60614</td>\n",
       "      <td>(773) 534-5720</td>\n",
       "      <td>http://schoolreports.cps.edu/SchoolProgressRep...</td>\n",
       "      <td>Fullerton Elementary Network</td>\n",
       "      <td>...</td>\n",
       "      <td>NDA</td>\n",
       "      <td>1171699.458</td>\n",
       "      <td>1915829.428</td>\n",
       "      <td>41.924497</td>\n",
       "      <td>-87.644522</td>\n",
       "      <td>7</td>\n",
       "      <td>LINCOLN PARK</td>\n",
       "      <td>43</td>\n",
       "      <td>18</td>\n",
       "      <td>(41.92449696, -87.64452163)</td>\n",
       "    </tr>\n",
       "    <tr>\n",
       "      <th>1</th>\n",
       "      <td>610281</td>\n",
       "      <td>Adam Clayton Powell Paideia Community Academy ...</td>\n",
       "      <td>ES</td>\n",
       "      <td>7511 S South Shore Dr</td>\n",
       "      <td>Chicago</td>\n",
       "      <td>IL</td>\n",
       "      <td>60649</td>\n",
       "      <td>(773) 535-6650</td>\n",
       "      <td>http://schoolreports.cps.edu/SchoolProgressRep...</td>\n",
       "      <td>Skyway Elementary Network</td>\n",
       "      <td>...</td>\n",
       "      <td>NDA</td>\n",
       "      <td>1196129.985</td>\n",
       "      <td>1856209.466</td>\n",
       "      <td>41.760324</td>\n",
       "      <td>-87.556736</td>\n",
       "      <td>43</td>\n",
       "      <td>SOUTH SHORE</td>\n",
       "      <td>7</td>\n",
       "      <td>4</td>\n",
       "      <td>(41.76032435, -87.55673627)</td>\n",
       "    </tr>\n",
       "    <tr>\n",
       "      <th>2</th>\n",
       "      <td>610185</td>\n",
       "      <td>Adlai E Stevenson Elementary School</td>\n",
       "      <td>ES</td>\n",
       "      <td>8010 S Kostner Ave</td>\n",
       "      <td>Chicago</td>\n",
       "      <td>IL</td>\n",
       "      <td>60652</td>\n",
       "      <td>(773) 535-2280</td>\n",
       "      <td>http://schoolreports.cps.edu/SchoolProgressRep...</td>\n",
       "      <td>Midway Elementary Network</td>\n",
       "      <td>...</td>\n",
       "      <td>NDA</td>\n",
       "      <td>1148427.165</td>\n",
       "      <td>1851012.215</td>\n",
       "      <td>41.747111</td>\n",
       "      <td>-87.731702</td>\n",
       "      <td>70</td>\n",
       "      <td>ASHBURN</td>\n",
       "      <td>13</td>\n",
       "      <td>8</td>\n",
       "      <td>(41.74711093, -87.73170248)</td>\n",
       "    </tr>\n",
       "  </tbody>\n",
       "</table>\n",
       "<p>3 rows × 78 columns</p>\n",
       "</div>"
      ],
      "text/plain": [
       "   School_ID                                     NAME_OF_SCHOOL  \\\n",
       "0     610038                  Abraham Lincoln Elementary School   \n",
       "1     610281  Adam Clayton Powell Paideia Community Academy ...   \n",
       "2     610185                Adlai E Stevenson Elementary School   \n",
       "\n",
       "  Elementary, Middle, or High School         Street_Address     City State  \\\n",
       "0                                 ES        615 W Kemper Pl  Chicago    IL   \n",
       "1                                 ES  7511 S South Shore Dr  Chicago    IL   \n",
       "2                                 ES     8010 S Kostner Ave  Chicago    IL   \n",
       "\n",
       "   ZIP_Code    Phone_Number  \\\n",
       "0     60614  (773) 534-5720   \n",
       "1     60649  (773) 535-6650   \n",
       "2     60652  (773) 535-2280   \n",
       "\n",
       "                                                Link  \\\n",
       "0  http://schoolreports.cps.edu/SchoolProgressRep...   \n",
       "1  http://schoolreports.cps.edu/SchoolProgressRep...   \n",
       "2  http://schoolreports.cps.edu/SchoolProgressRep...   \n",
       "\n",
       "                Network_Manager  ... Freshman_on_Track_Rate__ X_COORDINATE  \\\n",
       "0  Fullerton Elementary Network  ...                      NDA  1171699.458   \n",
       "1     Skyway Elementary Network  ...                      NDA  1196129.985   \n",
       "2     Midway Elementary Network  ...                      NDA  1148427.165   \n",
       "\n",
       "  Y_COORDINATE   Latitude  Longitude COMMUNITY_AREA_NUMBER  \\\n",
       "0  1915829.428  41.924497 -87.644522                     7   \n",
       "1  1856209.466  41.760324 -87.556736                    43   \n",
       "2  1851012.215  41.747111 -87.731702                    70   \n",
       "\n",
       "  COMMUNITY_AREA_NAME  Ward Police_District                     Location  \n",
       "0        LINCOLN PARK    43              18  (41.92449696, -87.64452163)  \n",
       "1         SOUTH SHORE     7               4  (41.76032435, -87.55673627)  \n",
       "2             ASHBURN    13               8  (41.74711093, -87.73170248)  \n",
       "\n",
       "[3 rows x 78 columns]"
      ]
     },
     "execution_count": 19,
     "metadata": {},
     "output_type": "execute_result"
    }
   ],
   "source": [
    "df = pd.read_sql('select * from chicagopublicschools;',conn)\n",
    "df.head(3)"
   ]
  },
  {
   "cell_type": "code",
   "execution_count": 20,
   "id": "6054ee58",
   "metadata": {},
   "outputs": [
    {
     "name": "stdout",
     "output_type": "stream",
     "text": [
      "School_ID\n",
      "NAME_OF_SCHOOL\n",
      "Elementary, Middle, or High School\n",
      "Street_Address\n",
      "City\n",
      "State\n",
      "ZIP_Code\n",
      "Phone_Number\n",
      "Link\n",
      "Network_Manager\n",
      "Collaborative_Name\n",
      "Adequate_Yearly_Progress_Made_\n",
      "Track_Schedule\n",
      "CPS_Performance_Policy_Status\n",
      "CPS_Performance_Policy_Level\n",
      "HEALTHY_SCHOOL_CERTIFIED\n",
      "Safety_Icon\n",
      "SAFETY_SCORE\n",
      "Family_Involvement_Icon\n",
      "Family_Involvement_Score\n",
      "Environment_Icon\n",
      "Environment_Score\n",
      "Instruction_Icon\n",
      "Instruction_Score\n",
      "Leaders_Icon\n",
      "Leaders_Score\n",
      "Teachers_Icon\n",
      "Teachers_Score\n",
      "Parent_Engagement_Icon\n",
      "Parent_Engagement_Score\n",
      "Parent_Environment_Icon\n",
      "Parent_Environment_Score\n",
      "AVERAGE_STUDENT_ATTENDANCE\n",
      "Rate_of_Misconducts__per_100_students_\n",
      "Average_Teacher_Attendance\n",
      "Individualized_Education_Program_Compliance_Rate\n",
      "Pk_2_Literacy__\n",
      "Pk_2_Math__\n",
      "Gr3_5_Grade_Level_Math__\n",
      "Gr3_5_Grade_Level_Read__\n",
      "Gr3_5_Keep_Pace_Read__\n",
      "Gr3_5_Keep_Pace_Math__\n",
      "Gr6_8_Grade_Level_Math__\n",
      "Gr6_8_Grade_Level_Read__\n",
      "Gr6_8_Keep_Pace_Math_\n",
      "Gr6_8_Keep_Pace_Read__\n",
      "Gr_8_Explore_Math__\n",
      "Gr_8_Explore_Read__\n",
      "ISAT_Exceeding_Math__\n",
      "ISAT_Exceeding_Reading__\n",
      "ISAT_Value_Add_Math\n",
      "ISAT_Value_Add_Read\n",
      "ISAT_Value_Add_Color_Math\n",
      "ISAT_Value_Add_Color_Read\n",
      "Students_Taking__Algebra__\n",
      "Students_Passing__Algebra__\n",
      "9th Grade EXPLORE (2009)\n",
      "9th Grade EXPLORE (2010)\n",
      "10th Grade PLAN (2009)\n",
      "10th Grade PLAN (2010)\n",
      "Net_Change_EXPLORE_and_PLAN\n",
      "11th Grade Average ACT (2011)\n",
      "Net_Change_PLAN_and_ACT\n",
      "College_Eligibility__\n",
      "Graduation_Rate__\n",
      "College_Enrollment_Rate__\n",
      "COLLEGE_ENROLLMENT\n",
      "General_Services_Route\n",
      "Freshman_on_Track_Rate__\n",
      "X_COORDINATE\n",
      "Y_COORDINATE\n",
      "Latitude\n",
      "Longitude\n",
      "COMMUNITY_AREA_NUMBER\n",
      "COMMUNITY_AREA_NAME\n",
      "Ward\n",
      "Police_District\n",
      "Location\n"
     ]
    }
   ],
   "source": [
    "for i in df.columns:\n",
    "    print(i)"
   ]
  },
  {
   "cell_type": "markdown",
   "id": "8058d4a3",
   "metadata": {},
   "source": [
    "### Problems\n",
    "* Problem 1\n",
    "* How many Elementary Schools are in the dataset?"
   ]
  },
  {
   "cell_type": "code",
   "execution_count": 21,
   "id": "d10c3847",
   "metadata": {},
   "outputs": [
    {
     "data": {
      "text/plain": [
       "350"
      ]
     },
     "execution_count": 21,
     "metadata": {},
     "output_type": "execute_result"
    }
   ],
   "source": [
    "#Python Solution\n",
    "len(df[df['Elementary, Middle, or High School']=='ES'])"
   ]
  },
  {
   "cell_type": "markdown",
   "id": "4bc182e4",
   "metadata": {},
   "source": [
    "### Problem 2\n",
    "* What is the highest Safety Score?"
   ]
  },
  {
   "cell_type": "code",
   "execution_count": 22,
   "id": "5dd7a431",
   "metadata": {},
   "outputs": [
    {
     "data": {
      "text/plain": [
       "99"
      ]
     },
     "execution_count": 22,
     "metadata": {},
     "output_type": "execute_result"
    }
   ],
   "source": [
    "#Python Soluation\n",
    "df['SAFETY_SCORE'].max()"
   ]
  },
  {
   "cell_type": "code",
   "execution_count": 34,
   "id": "e8464f9b",
   "metadata": {},
   "outputs": [
    {
     "data": {
      "text/plain": [
       "[(99,)]"
      ]
     },
     "execution_count": 34,
     "metadata": {},
     "output_type": "execute_result"
    }
   ],
   "source": [
    "#SQL Soluation\n",
    "cursor.execute(\"\"\"select max(SAFETY_SCORE) from chicagopublicschools\"\"\")\n",
    "result=cursor.fetchall()\n",
    "result"
   ]
  },
  {
   "cell_type": "markdown",
   "id": "af7deea4",
   "metadata": {},
   "source": [
    "### Problem 3\n",
    "* Which schools have highest Safety Score?"
   ]
  },
  {
   "cell_type": "code",
   "execution_count": 24,
   "id": "a0d96787",
   "metadata": {},
   "outputs": [
    {
     "data": {
      "text/plain": [
       "0                     Abraham Lincoln Elementary School\n",
       "21         Annie Keller Elementary Gifted Magnet School\n",
       "29                  Augustus H Burley Elementary School\n",
       "75          Edgar Allan Poe Elementary Classical School\n",
       "76                          Edgebrook Elementary School\n",
       "95                     Ellen Mitchell Elementary School\n",
       "167          James E McDade Elementary Classical School\n",
       "168                    James G Blaine Elementary School\n",
       "230                 LaSalle Elementary Language Academy\n",
       "259    Mary E Courtenay Elementary Language Arts Center\n",
       "287           Northside College Preparatory High School\n",
       "288               Northside Learning Center High School\n",
       "289                      Norwood Park Elementary School\n",
       "293                       Oriole Park Elementary School\n",
       "342         Stephen Decatur Classical Elementary School\n",
       "345                            Talman Elementary School\n",
       "365                          Wildwood Elementary School\n",
       "Name: NAME_OF_SCHOOL, dtype: object"
      ]
     },
     "execution_count": 24,
     "metadata": {},
     "output_type": "execute_result"
    }
   ],
   "source": [
    "#Python Solution\n",
    "df[df['SAFETY_SCORE']==99]['NAME_OF_SCHOOL']"
   ]
  },
  {
   "cell_type": "code",
   "execution_count": 35,
   "id": "19b3c2f0",
   "metadata": {},
   "outputs": [
    {
     "data": {
      "text/plain": [
       "[('Abraham Lincoln Elementary School', 99),\n",
       " ('Annie Keller Elementary Gifted Magnet School', 99),\n",
       " ('Augustus H Burley Elementary School', 99),\n",
       " ('Edgar Allan Poe Elementary Classical School', 99),\n",
       " ('Edgebrook Elementary School', 99),\n",
       " ('Ellen Mitchell Elementary School', 99),\n",
       " ('James E McDade Elementary Classical School', 99),\n",
       " ('James G Blaine Elementary School', 99),\n",
       " ('LaSalle Elementary Language Academy', 99),\n",
       " ('Mary E Courtenay Elementary Language Arts Center', 99),\n",
       " ('Northside College Preparatory High School', 99),\n",
       " ('Northside Learning Center High School', 99),\n",
       " ('Norwood Park Elementary School', 99),\n",
       " ('Oriole Park Elementary School', 99),\n",
       " ('Stephen Decatur Classical Elementary School', 99),\n",
       " ('Talman Elementary School', 99),\n",
       " ('Wildwood Elementary School', 99)]"
      ]
     },
     "execution_count": 35,
     "metadata": {},
     "output_type": "execute_result"
    }
   ],
   "source": [
    "# SQL Soluation\n",
    "cursor.execute(\"\"\"select NAME_OF_SCHOOL,SAFETY_SCORE \n",
    "                from chicagopublicschools\n",
    "                where SAFETY_SCORE = 99\n",
    "                \"\"\")\n",
    "result=cursor.fetchall()\n",
    "result"
   ]
  },
  {
   "cell_type": "markdown",
   "id": "dc7520c6",
   "metadata": {},
   "source": [
    "### Problem 4\n",
    "* What are the top 10 schools with the highest \"Average Student Attendance\"?"
   ]
  },
  {
   "cell_type": "code",
   "execution_count": 25,
   "id": "bfec9005",
   "metadata": {},
   "outputs": [
    {
     "data": {
      "text/plain": [
       "'98.40%'"
      ]
     },
     "execution_count": 25,
     "metadata": {},
     "output_type": "execute_result"
    }
   ],
   "source": [
    "df['AVERAGE_STUDENT_ATTENDANCE'].max()"
   ]
  },
  {
   "cell_type": "code",
   "execution_count": 26,
   "id": "5c57fbb3",
   "metadata": {},
   "outputs": [
    {
     "data": {
      "text/plain": [
       "[('John Charles Haines Elementary School', '98.40%'),\n",
       " ('James Ward Elementary School', '97.80%'),\n",
       " ('Rachel Carson Elementary School', '97.60%'),\n",
       " ('Edgar Allan Poe Elementary Classical School', '97.60%'),\n",
       " ('Orozco Fine Arts & Sciences Elementary School', '97.60%'),\n",
       " ('Annie Keller Elementary Gifted Magnet School', '97.50%'),\n",
       " ('Lenart Elementary Regional Gifted Center', '97.40%'),\n",
       " ('John H Vanderpoel Elementary Magnet School', '97.20%'),\n",
       " ('Albany Park Multicultural Academy', '97.00%'),\n",
       " ('Frank W Reilly Elementary School', '97.00%')]"
      ]
     },
     "execution_count": 26,
     "metadata": {},
     "output_type": "execute_result"
    }
   ],
   "source": [
    "#SQL Soluation \n",
    "cursor.execute(\"\"\" select NAME_OF_SCHOOL,AVERAGE_STUDENT_ATTENDANCE\n",
    "                        from chicagopublicschools \n",
    "                        order by AVERAGE_STUDENT_ATTENDANCE desc \n",
    "                        limit 10\"\"\")\n",
    "result = cursor.fetchall()\n",
    "result"
   ]
  },
  {
   "cell_type": "markdown",
   "id": "bb1ce695",
   "metadata": {},
   "source": [
    "### Problem 5\n",
    "-Retrieve the list of 5 Schools with the lowest Average Student Attendance sorted in\n",
    "ascending order based on attendance"
   ]
  },
  {
   "cell_type": "code",
   "execution_count": 27,
   "id": "70a08696",
   "metadata": {},
   "outputs": [
    {
     "data": {
      "text/plain": [
       "[('Richard T Crane Technical Preparatory High School', '57.90%'),\n",
       " ('William Rainey Harper High School', '73.00%'),\n",
       " ('William J Bogan High School', '75.20%'),\n",
       " ('John Hancock College Preparatory High School', '78.20%'),\n",
       " ('Edward Tilden Career Community Academy High School', '78.40%')]"
      ]
     },
     "execution_count": 27,
     "metadata": {},
     "output_type": "execute_result"
    }
   ],
   "source": [
    "cursor.execute(\"\"\" select NAME_OF_SCHOOL,AVERAGE_STUDENT_ATTENDANCE from chicagopublicschools \n",
    "                        order by AVERAGE_STUDENT_ATTENDANCE \n",
    "                        limit 5\"\"\")\n",
    "result = cursor.fetchall()\n",
    "result"
   ]
  },
  {
   "cell_type": "markdown",
   "id": "c2f1109f",
   "metadata": {},
   "source": [
    "### Problem 6\n",
    "\n",
    "##### Now remove the '%' sign from the above result set for Average Student Attendance column"
   ]
  },
  {
   "cell_type": "code",
   "execution_count": 28,
   "id": "feee012a",
   "metadata": {},
   "outputs": [
    {
     "data": {
      "text/plain": [
       "[('Richard T Crane Technical Preparatory High School', '57.90'),\n",
       " ('William Rainey Harper High School', '73.00'),\n",
       " ('William J Bogan High School', '75.20'),\n",
       " ('John Hancock College Preparatory High School', '78.20'),\n",
       " ('Edward Tilden Career Community Academy High School', '78.40')]"
      ]
     },
     "execution_count": 28,
     "metadata": {},
     "output_type": "execute_result"
    }
   ],
   "source": [
    "cursor.execute(\"\"\" select NAME_OF_SCHOOL,replace(AVERAGE_STUDENT_ATTENDANCE,'%','')\n",
    "                        from chicagopublicschools \n",
    "                        order by AVERAGE_STUDENT_ATTENDANCE \n",
    "                        limit 5\"\"\")\n",
    "result = cursor.fetchall()\n",
    "result"
   ]
  },
  {
   "cell_type": "markdown",
   "id": "0eae3555",
   "metadata": {},
   "source": [
    "### Problem 7\n",
    "* Which Schools have Average Student Attendance lower than 70%?"
   ]
  },
  {
   "cell_type": "code",
   "execution_count": 29,
   "id": "1715f7ee",
   "metadata": {},
   "outputs": [
    {
     "data": {
      "text/plain": [
       "[('Richard T Crane Technical Preparatory High School', '57.90')]"
      ]
     },
     "execution_count": 29,
     "metadata": {},
     "output_type": "execute_result"
    }
   ],
   "source": [
    "cursor.execute(\"\"\" select NAME_OF_SCHOOL,replace(AVERAGE_STUDENT_ATTENDANCE,'%','')\n",
    "                        from chicagopublicschools\n",
    "                        where AVERAGE_STUDENT_ATTENDANCE < 70 \"\"\")\n",
    "result = cursor.fetchall()\n",
    "result"
   ]
  },
  {
   "cell_type": "markdown",
   "id": "b6240f94",
   "metadata": {},
   "source": [
    "# Problem 8\n",
    "Get the total College Enrollment for each Community Area"
   ]
  },
  {
   "cell_type": "code",
   "execution_count": 30,
   "id": "415d5150",
   "metadata": {},
   "outputs": [
    {
     "data": {
      "text/plain": [
       "<pandas.core.groupby.generic.DataFrameGroupBy object at 0x000001E091072670>"
      ]
     },
     "execution_count": 30,
     "metadata": {},
     "output_type": "execute_result"
    }
   ],
   "source": [
    "df.groupby('COMMUNITY_AREA_NAME')"
   ]
  },
  {
   "cell_type": "code",
   "execution_count": 31,
   "id": "d7ebc5f9",
   "metadata": {},
   "outputs": [
    {
     "data": {
      "text/plain": [
       "[('LINCOLN PARK', Decimal('2187')),\n",
       " ('SOUTH SHORE', Decimal('2654')),\n",
       " ('ASHBURN', Decimal('6483')),\n",
       " ('NEW CITY', Decimal('7922')),\n",
       " ('ARMOUR SQUARE', Decimal('1458')),\n",
       " ('ALBANY PARK', Decimal('4135')),\n",
       " ('NORTH CENTER', Decimal('1975')),\n",
       " ('LAKE VIEW', Decimal('6326')),\n",
       " ('WEST TOWN', Decimal('5413')),\n",
       " ('ROSELAND', Decimal('3872')),\n",
       " ('HUMBOLDT PARK', Decimal('5423')),\n",
       " ('BEVERLY', Decimal('1636')),\n",
       " ('NORTH LAWNDALE', Decimal('2767')),\n",
       " ('LOGAN SQUARE', Decimal('6392')),\n",
       " ('ENGLEWOOD', Decimal('4106')),\n",
       " ('WOODLAWN', Decimal('2411')),\n",
       " ('WEST ENGLEWOOD', Decimal('5391')),\n",
       " ('MOUNT GREENWOOD', Decimal('1182')),\n",
       " ('GRAND BOULEVARD', Decimal('2211')),\n",
       " ('SOUTH CHICAGO', Decimal('2893')),\n",
       " ('DUNNING', Decimal('4066')),\n",
       " ('AVALON PARK', Decimal('689')),\n",
       " ('BELMONT CRAGIN', Decimal('8456')),\n",
       " ('WASHINGTON PARK', Decimal('2330')),\n",
       " ('KENWOOD', Decimal('748')),\n",
       " ('HYDE PARK', Decimal('1930')),\n",
       " ('SOUTH DEERING', Decimal('1488')),\n",
       " ('CHATHAM', Decimal('2012')),\n",
       " ('BRIGHTON PARK', Decimal('6073')),\n",
       " ('AVONDALE', Decimal('3640')),\n",
       " ('SOUTH LAWNDALE', Decimal('9232')),\n",
       " ('WASHINGTON HEIGHTS', Decimal('2780')),\n",
       " ('BRIDGEPORT', Decimal('1783')),\n",
       " ('GREATER GRAND CROSSING', Decimal('2594')),\n",
       " ('WEST GARFIELD PARK', Decimal('2307')),\n",
       " ('EDISON PARK', Decimal('650')),\n",
       " ('AUBURN GRESHAM', Decimal('3391')),\n",
       " ('CHICAGO LAWN', Decimal('4705')),\n",
       " ('WEST RIDGE', Decimal('3892')),\n",
       " ('EAST SIDE', Decimal('3781')),\n",
       " ('PULLMAN', Decimal('999')),\n",
       " ('FOREST GLEN', Decimal('882')),\n",
       " ('NORWOOD PARK', Decimal('3387')),\n",
       " ('NEAR NORTH SIDE', Decimal('1517')),\n",
       " ('AUSTIN', Decimal('8198')),\n",
       " ('WEST LAWN', Decimal('1703')),\n",
       " ('WEST PULLMAN', Decimal('2042')),\n",
       " ('LINCOLN SQUARE', Decimal('4132')),\n",
       " ('GAGE PARK', Decimal('5407')),\n",
       " ('PORTAGE PARK', Decimal('4191')),\n",
       " ('MORGAN PARK', Decimal('1483')),\n",
       " ('ROGERS PARK', Decimal('2486')),\n",
       " ('MCKINLEY PARK', Decimal('389')),\n",
       " ('WEST ELSDON', Decimal('2527')),\n",
       " ('NEAR WEST SIDE', Decimal('5920')),\n",
       " ('EDGEWATER', Decimal('2547')),\n",
       " ('RIVERDALE', Decimal('1015')),\n",
       " ('UPTOWN', Decimal('997')),\n",
       " ('IRVING PARK', Decimal('4600')),\n",
       " ('NORTH PARK', Decimal('2574')),\n",
       " ('BURNSIDE', Decimal('549')),\n",
       " ('LOWER WEST SIDE', Decimal('4009')),\n",
       " ('JEFFERSON PARK', Decimal('574')),\n",
       " ('DOUGLAS', Decimal('1133')),\n",
       " ('EAST GARFIELD PARK', Decimal('3050')),\n",
       " ('HERMOSA', Decimal('1861')),\n",
       " ('CLEARING', Decimal('1948')),\n",
       " ('GARFIELD RIDGE', Decimal('2963')),\n",
       " ('MONTCLARE', Decimal('1317')),\n",
       " ('CALUMET HEIGHTS', Decimal('802')),\n",
       " ('NEAR SOUTH SIDE', Decimal('1378')),\n",
       " ('ARCHER HEIGHTS', Decimal('1503')),\n",
       " ('FULLER PARK', Decimal('307'))]"
      ]
     },
     "execution_count": 31,
     "metadata": {},
     "output_type": "execute_result"
    }
   ],
   "source": [
    "cursor.execute(\"\"\" select COMMUNITY_AREA_NAME,sum(COLLEGE_ENROLLMENT) AS total_enrollment\n",
    "                        from chicagopublicschools\n",
    "                        group by COMMUNITY_AREA_NAME \"\"\")\n",
    "result = cursor.fetchall()\n",
    "result"
   ]
  },
  {
   "cell_type": "markdown",
   "id": "58fc877d",
   "metadata": {},
   "source": [
    "### Problem 9\n",
    "* Get the 5 Community Areas with the least total College Enrollment sorted in ascending order"
   ]
  },
  {
   "cell_type": "code",
   "execution_count": 32,
   "id": "9809997d",
   "metadata": {},
   "outputs": [
    {
     "data": {
      "text/plain": [
       "[('FULLER PARK', Decimal('307')),\n",
       " ('MCKINLEY PARK', Decimal('389')),\n",
       " ('BURNSIDE', Decimal('549')),\n",
       " ('JEFFERSON PARK', Decimal('574')),\n",
       " ('EDISON PARK', Decimal('650'))]"
      ]
     },
     "execution_count": 32,
     "metadata": {},
     "output_type": "execute_result"
    }
   ],
   "source": [
    "cursor.execute(\"\"\" select COMMUNITY_AREA_NAME, sum(COLLEGE_ENROLLMENT) AS total_enrollment\n",
    "                    from chicagopublicschools\n",
    "                    group by COMMUNITY_AREA_NAME \n",
    "                    order by total_enrollment\n",
    "                    limit 5\n",
    "                    \"\"\")\n",
    "result = cursor.fetchall()\n",
    "result"
   ]
  },
  {
   "cell_type": "markdown",
   "id": "ec79760c",
   "metadata": {},
   "source": [
    "### Problem 10\n",
    "List 5 schools with lowest safety score."
   ]
  },
  {
   "cell_type": "code",
   "execution_count": 33,
   "id": "8c1466d4",
   "metadata": {},
   "outputs": [
    {
     "data": {
      "text/plain": [
       "[('Edmond Burke Elementary School', 1),\n",
       " (\"Luke O'Toole Elementary School\", 5),\n",
       " ('George W Tilton Elementary School', 6),\n",
       " ('Foster Park Elementary School', 11),\n",
       " ('John Fiske Elementary School', 13)]"
      ]
     },
     "execution_count": 33,
     "metadata": {},
     "output_type": "execute_result"
    }
   ],
   "source": [
    "cursor.execute(\"\"\" select NAME_OF_SCHOOL,SAFETY_SCORE\n",
    "                    from chicagopublicschools\n",
    "                    order by SAFETY_SCORE\n",
    "                    limit 5\n",
    "                    \"\"\")\n",
    "result = cursor.fetchall()\n",
    "result"
   ]
  },
  {
   "cell_type": "code",
   "execution_count": 36,
   "id": "7bbab148",
   "metadata": {},
   "outputs": [
    {
     "data": {
      "text/plain": [
       "True"
      ]
     },
     "execution_count": 36,
     "metadata": {},
     "output_type": "execute_result"
    }
   ],
   "source": [
    "cursor.close()"
   ]
  },
  {
   "cell_type": "code",
   "execution_count": null,
   "id": "55d5c733",
   "metadata": {},
   "outputs": [],
   "source": []
  }
 ],
 "metadata": {
  "kernelspec": {
   "display_name": "Python 3",
   "language": "python",
   "name": "python3"
  },
  "language_info": {
   "codemirror_mode": {
    "name": "ipython",
    "version": 3
   },
   "file_extension": ".py",
   "mimetype": "text/x-python",
   "name": "python",
   "nbconvert_exporter": "python",
   "pygments_lexer": "ipython3",
   "version": "3.8.8"
  }
 },
 "nbformat": 4,
 "nbformat_minor": 5
}
