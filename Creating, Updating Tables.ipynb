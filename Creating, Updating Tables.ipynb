{
 "cells": [
  {
   "cell_type": "markdown",
   "id": "4e0c8df4",
   "metadata": {},
   "source": [
    "### Task 1: Create the database connection"
   ]
  },
  {
   "cell_type": "code",
   "execution_count": 2,
   "id": "9a654337",
   "metadata": {},
   "outputs": [],
   "source": [
    "# Importing Liabraries\n",
    "import mysql.connector\n",
    "from mysql.connector import Error\n",
    "import pandas as pd\n",
    "import numpy as np"
   ]
  },
  {
   "cell_type": "code",
   "execution_count": 4,
   "id": "84640c6c",
   "metadata": {},
   "outputs": [
    {
     "name": "stdout",
     "output_type": "stream",
     "text": [
      "You are connected to the MySQl server 8.0.26\n"
     ]
    }
   ],
   "source": [
    "# Connecting to the database\n",
    "connection = mysql.connector.connect(host = 'localhost',\n",
    "                                    user = 'root',\n",
    "                                    password = 'Tanmay@2002')\n",
    "\n",
    "# Checcking connection with try and Except \n",
    "try:\n",
    "    if connection.is_connected():\n",
    "            db_info = connection.get_server_info()\n",
    "            print('You are connected to the MySQl server',db_info)\n",
    "            \n",
    "except Error as e:\n",
    "    print(\"Connection failed due to \",e)\n",
    "        "
   ]
  },
  {
   "cell_type": "code",
   "execution_count": 5,
   "id": "76a921e9",
   "metadata": {},
   "outputs": [],
   "source": [
    "#Creating Cursor Object\n",
    "cursor = connection.cursor()"
   ]
  },
  {
   "cell_type": "code",
   "execution_count": 7,
   "id": "612cecf2",
   "metadata": {},
   "outputs": [
    {
     "data": {
      "text/plain": [
       "[('hr',),\n",
       " ('information_schema',),\n",
       " ('mysql',),\n",
       " ('performance_schema',),\n",
       " ('sakila',),\n",
       " ('sys',),\n",
       " ('tanmay',),\n",
       " ('world',)]"
      ]
     },
     "execution_count": 7,
     "metadata": {},
     "output_type": "execute_result"
    }
   ],
   "source": [
    "#Run Quaries and Result\n",
    "cursor.execute('show databases')\n",
    "\n",
    "result = cursor.fetchall()\n",
    "result"
   ]
  },
  {
   "cell_type": "markdown",
   "id": "330c546c",
   "metadata": {},
   "source": [
    "# "
   ]
  },
  {
   "cell_type": "markdown",
   "id": "cba262ce",
   "metadata": {},
   "source": [
    "### Task 2: Create a table in the database"
   ]
  },
  {
   "cell_type": "code",
   "execution_count": 15,
   "id": "68a28cd7",
   "metadata": {},
   "outputs": [],
   "source": [
    "# Creating table in database with the help of python\n",
    "cursor.execute(\"create table PET(ID integer primary key not null,Animal varchar(20),Quantity int,cost decimal(6,2),rescuedate date)\")"
   ]
  },
  {
   "cell_type": "markdown",
   "id": "6b6865f9",
   "metadata": {},
   "source": [
    "# "
   ]
  },
  {
   "cell_type": "markdown",
   "id": "fb5cc218",
   "metadata": {},
   "source": [
    "### Task 3: Insert data into the table"
   ]
  },
  {
   "cell_type": "code",
   "execution_count": 36,
   "id": "4d4ceb51",
   "metadata": {},
   "outputs": [],
   "source": [
    "# Inserting values in table\n",
    "cursor.execute(\"insert into PET values(1,'Cat',9,450.09,'2018-05-29'),(2,'Dog',3,666.66,'2018-06-01'),(3,'Dog',1,100.00,'2018-06-04'),(4,'Parrot',2,50.00,'2018-06-04'),(5,'Dog',1,75.75,'2018-06-10'),(6,'Hamster',6,60.60,'2018-06-11');\")"
   ]
  },
  {
   "cell_type": "markdown",
   "id": "92a21e1e",
   "metadata": {},
   "source": [
    "### Task 4: Retrieve data into the table"
   ]
  },
  {
   "cell_type": "code",
   "execution_count": 37,
   "id": "dc5772f8",
   "metadata": {},
   "outputs": [
    {
     "data": {
      "text/html": [
       "<div>\n",
       "<style scoped>\n",
       "    .dataframe tbody tr th:only-of-type {\n",
       "        vertical-align: middle;\n",
       "    }\n",
       "\n",
       "    .dataframe tbody tr th {\n",
       "        vertical-align: top;\n",
       "    }\n",
       "\n",
       "    .dataframe thead th {\n",
       "        text-align: right;\n",
       "    }\n",
       "</style>\n",
       "<table border=\"1\" class=\"dataframe\">\n",
       "  <thead>\n",
       "    <tr style=\"text-align: right;\">\n",
       "      <th></th>\n",
       "      <th>ID</th>\n",
       "      <th>Animal</th>\n",
       "      <th>Quantity</th>\n",
       "      <th>cost</th>\n",
       "      <th>rescuedate</th>\n",
       "    </tr>\n",
       "  </thead>\n",
       "  <tbody>\n",
       "    <tr>\n",
       "      <th>0</th>\n",
       "      <td>1</td>\n",
       "      <td>Cat</td>\n",
       "      <td>9</td>\n",
       "      <td>450.09</td>\n",
       "      <td>2018-05-29</td>\n",
       "    </tr>\n",
       "    <tr>\n",
       "      <th>1</th>\n",
       "      <td>2</td>\n",
       "      <td>Dog</td>\n",
       "      <td>3</td>\n",
       "      <td>666.66</td>\n",
       "      <td>2018-06-01</td>\n",
       "    </tr>\n",
       "    <tr>\n",
       "      <th>2</th>\n",
       "      <td>3</td>\n",
       "      <td>Dog</td>\n",
       "      <td>1</td>\n",
       "      <td>100.00</td>\n",
       "      <td>2018-06-04</td>\n",
       "    </tr>\n",
       "    <tr>\n",
       "      <th>3</th>\n",
       "      <td>4</td>\n",
       "      <td>Parrot</td>\n",
       "      <td>2</td>\n",
       "      <td>50.00</td>\n",
       "      <td>2018-06-04</td>\n",
       "    </tr>\n",
       "    <tr>\n",
       "      <th>4</th>\n",
       "      <td>5</td>\n",
       "      <td>Dog</td>\n",
       "      <td>1</td>\n",
       "      <td>75.75</td>\n",
       "      <td>2018-06-10</td>\n",
       "    </tr>\n",
       "    <tr>\n",
       "      <th>5</th>\n",
       "      <td>6</td>\n",
       "      <td>Hamster</td>\n",
       "      <td>6</td>\n",
       "      <td>60.60</td>\n",
       "      <td>2018-06-11</td>\n",
       "    </tr>\n",
       "  </tbody>\n",
       "</table>\n",
       "</div>"
      ],
      "text/plain": [
       "   ID   Animal  Quantity    cost  rescuedate\n",
       "0   1      Cat         9  450.09  2018-05-29\n",
       "1   2      Dog         3  666.66  2018-06-01\n",
       "2   3      Dog         1  100.00  2018-06-04\n",
       "3   4   Parrot         2   50.00  2018-06-04\n",
       "4   5      Dog         1   75.75  2018-06-10\n",
       "5   6  Hamster         6   60.60  2018-06-11"
      ]
     },
     "execution_count": 37,
     "metadata": {},
     "output_type": "execute_result"
    }
   ],
   "source": [
    "#Run Quaries and see the Result\n",
    "result = pd.read_sql('select * from PET',connection)\n",
    "\n",
    "#result = cursor.fetchall()\n",
    "result"
   ]
  },
  {
   "cell_type": "markdown",
   "id": "f78051d1",
   "metadata": {},
   "source": [
    "# "
   ]
  },
  {
   "cell_type": "markdown",
   "id": "65db9e7c",
   "metadata": {},
   "source": [
    "### Distinct\n",
    "- It is used to remove Duplicate values from a result set"
   ]
  },
  {
   "cell_type": "code",
   "execution_count": 40,
   "id": "88ccb1c6",
   "metadata": {},
   "outputs": [
    {
     "data": {
      "text/html": [
       "<div>\n",
       "<style scoped>\n",
       "    .dataframe tbody tr th:only-of-type {\n",
       "        vertical-align: middle;\n",
       "    }\n",
       "\n",
       "    .dataframe tbody tr th {\n",
       "        vertical-align: top;\n",
       "    }\n",
       "\n",
       "    .dataframe thead th {\n",
       "        text-align: right;\n",
       "    }\n",
       "</style>\n",
       "<table border=\"1\" class=\"dataframe\">\n",
       "  <thead>\n",
       "    <tr style=\"text-align: right;\">\n",
       "      <th></th>\n",
       "      <th>Animal</th>\n",
       "    </tr>\n",
       "  </thead>\n",
       "  <tbody>\n",
       "    <tr>\n",
       "      <th>0</th>\n",
       "      <td>Cat</td>\n",
       "    </tr>\n",
       "    <tr>\n",
       "      <th>1</th>\n",
       "      <td>Dog</td>\n",
       "    </tr>\n",
       "    <tr>\n",
       "      <th>2</th>\n",
       "      <td>Parrot</td>\n",
       "    </tr>\n",
       "    <tr>\n",
       "      <th>3</th>\n",
       "      <td>Hamster</td>\n",
       "    </tr>\n",
       "  </tbody>\n",
       "</table>\n",
       "</div>"
      ],
      "text/plain": [
       "    Animal\n",
       "0      Cat\n",
       "1      Dog\n",
       "2   Parrot\n",
       "3  Hamster"
      ]
     },
     "execution_count": 40,
     "metadata": {},
     "output_type": "execute_result"
    }
   ],
   "source": [
    "result = pd.read_sql('select distinct Animal from PET',connection)\n",
    "result"
   ]
  },
  {
   "cell_type": "markdown",
   "id": "7900956f",
   "metadata": {},
   "source": [
    "# "
   ]
  },
  {
   "cell_type": "markdown",
   "id": "e9bd1542",
   "metadata": {},
   "source": [
    "### Limit\n",
    "-It is used for restricting the no of rows retrieved from the dataset"
   ]
  },
  {
   "cell_type": "code",
   "execution_count": 42,
   "id": "9e5adb73",
   "metadata": {},
   "outputs": [
    {
     "data": {
      "text/html": [
       "<div>\n",
       "<style scoped>\n",
       "    .dataframe tbody tr th:only-of-type {\n",
       "        vertical-align: middle;\n",
       "    }\n",
       "\n",
       "    .dataframe tbody tr th {\n",
       "        vertical-align: top;\n",
       "    }\n",
       "\n",
       "    .dataframe thead th {\n",
       "        text-align: right;\n",
       "    }\n",
       "</style>\n",
       "<table border=\"1\" class=\"dataframe\">\n",
       "  <thead>\n",
       "    <tr style=\"text-align: right;\">\n",
       "      <th></th>\n",
       "      <th>ID</th>\n",
       "      <th>Animal</th>\n",
       "      <th>Quantity</th>\n",
       "      <th>cost</th>\n",
       "      <th>rescuedate</th>\n",
       "    </tr>\n",
       "  </thead>\n",
       "  <tbody>\n",
       "    <tr>\n",
       "      <th>0</th>\n",
       "      <td>1</td>\n",
       "      <td>Cat</td>\n",
       "      <td>9</td>\n",
       "      <td>450.09</td>\n",
       "      <td>2018-05-29</td>\n",
       "    </tr>\n",
       "    <tr>\n",
       "      <th>1</th>\n",
       "      <td>2</td>\n",
       "      <td>Dog</td>\n",
       "      <td>3</td>\n",
       "      <td>666.66</td>\n",
       "      <td>2018-06-01</td>\n",
       "    </tr>\n",
       "    <tr>\n",
       "      <th>2</th>\n",
       "      <td>3</td>\n",
       "      <td>Dog</td>\n",
       "      <td>1</td>\n",
       "      <td>100.00</td>\n",
       "      <td>2018-06-04</td>\n",
       "    </tr>\n",
       "  </tbody>\n",
       "</table>\n",
       "</div>"
      ],
      "text/plain": [
       "   ID Animal  Quantity    cost  rescuedate\n",
       "0   1    Cat         9  450.09  2018-05-29\n",
       "1   2    Dog         3  666.66  2018-06-01\n",
       "2   3    Dog         1  100.00  2018-06-04"
      ]
     },
     "execution_count": 42,
     "metadata": {},
     "output_type": "execute_result"
    }
   ],
   "source": [
    "result = pd.read_sql('select * from PET LIMIT 3',connection)\n",
    "result"
   ]
  },
  {
   "cell_type": "markdown",
   "id": "77ddfaa3",
   "metadata": {},
   "source": [
    "# "
   ]
  },
  {
   "cell_type": "markdown",
   "id": "f1069f63",
   "metadata": {},
   "source": [
    "### Update & Delete\n",
    "-After creating a table and inserting the data into the table, we can alter the data"
   ]
  },
  {
   "cell_type": "code",
   "execution_count": 46,
   "id": "06ed4439",
   "metadata": {},
   "outputs": [
    {
     "data": {
      "text/html": [
       "<div>\n",
       "<style scoped>\n",
       "    .dataframe tbody tr th:only-of-type {\n",
       "        vertical-align: middle;\n",
       "    }\n",
       "\n",
       "    .dataframe tbody tr th {\n",
       "        vertical-align: top;\n",
       "    }\n",
       "\n",
       "    .dataframe thead th {\n",
       "        text-align: right;\n",
       "    }\n",
       "</style>\n",
       "<table border=\"1\" class=\"dataframe\">\n",
       "  <thead>\n",
       "    <tr style=\"text-align: right;\">\n",
       "      <th></th>\n",
       "      <th>ID</th>\n",
       "      <th>Animal</th>\n",
       "      <th>Quantity</th>\n",
       "      <th>cost</th>\n",
       "      <th>rescuedate</th>\n",
       "    </tr>\n",
       "  </thead>\n",
       "  <tbody>\n",
       "    <tr>\n",
       "      <th>0</th>\n",
       "      <td>1</td>\n",
       "      <td>Cat</td>\n",
       "      <td>9</td>\n",
       "      <td>450.09</td>\n",
       "      <td>2018-05-29</td>\n",
       "    </tr>\n",
       "    <tr>\n",
       "      <th>1</th>\n",
       "      <td>2</td>\n",
       "      <td>Dog</td>\n",
       "      <td>3</td>\n",
       "      <td>666.66</td>\n",
       "      <td>2018-06-01</td>\n",
       "    </tr>\n",
       "    <tr>\n",
       "      <th>2</th>\n",
       "      <td>3</td>\n",
       "      <td>peacock</td>\n",
       "      <td>1</td>\n",
       "      <td>100.00</td>\n",
       "      <td>2018-06-04</td>\n",
       "    </tr>\n",
       "    <tr>\n",
       "      <th>3</th>\n",
       "      <td>4</td>\n",
       "      <td>Parrot</td>\n",
       "      <td>2</td>\n",
       "      <td>50.00</td>\n",
       "      <td>2018-06-04</td>\n",
       "    </tr>\n",
       "    <tr>\n",
       "      <th>4</th>\n",
       "      <td>5</td>\n",
       "      <td>Dog</td>\n",
       "      <td>1</td>\n",
       "      <td>75.75</td>\n",
       "      <td>2018-06-10</td>\n",
       "    </tr>\n",
       "    <tr>\n",
       "      <th>5</th>\n",
       "      <td>6</td>\n",
       "      <td>Hamster</td>\n",
       "      <td>6</td>\n",
       "      <td>60.60</td>\n",
       "      <td>2018-06-11</td>\n",
       "    </tr>\n",
       "  </tbody>\n",
       "</table>\n",
       "</div>"
      ],
      "text/plain": [
       "   ID   Animal  Quantity    cost  rescuedate\n",
       "0   1      Cat         9  450.09  2018-05-29\n",
       "1   2      Dog         3  666.66  2018-06-01\n",
       "2   3  peacock         1  100.00  2018-06-04\n",
       "3   4   Parrot         2   50.00  2018-06-04\n",
       "4   5      Dog         1   75.75  2018-06-10\n",
       "5   6  Hamster         6   60.60  2018-06-11"
      ]
     },
     "execution_count": 46,
     "metadata": {},
     "output_type": "execute_result"
    }
   ],
   "source": [
    "# Update Statement\n",
    "cursor.execute(\"update PET set Animal ='peacock' where ID = 3\")\n",
    "result = pd.read_sql('select * from PET',connection)\n",
    "result"
   ]
  },
  {
   "cell_type": "code",
   "execution_count": 47,
   "id": "2e99dc1d",
   "metadata": {},
   "outputs": [
    {
     "data": {
      "text/html": [
       "<div>\n",
       "<style scoped>\n",
       "    .dataframe tbody tr th:only-of-type {\n",
       "        vertical-align: middle;\n",
       "    }\n",
       "\n",
       "    .dataframe tbody tr th {\n",
       "        vertical-align: top;\n",
       "    }\n",
       "\n",
       "    .dataframe thead th {\n",
       "        text-align: right;\n",
       "    }\n",
       "</style>\n",
       "<table border=\"1\" class=\"dataframe\">\n",
       "  <thead>\n",
       "    <tr style=\"text-align: right;\">\n",
       "      <th></th>\n",
       "      <th>ID</th>\n",
       "      <th>Animal</th>\n",
       "      <th>Quantity</th>\n",
       "      <th>cost</th>\n",
       "      <th>rescuedate</th>\n",
       "    </tr>\n",
       "  </thead>\n",
       "  <tbody>\n",
       "    <tr>\n",
       "      <th>0</th>\n",
       "      <td>1</td>\n",
       "      <td>Cat</td>\n",
       "      <td>9</td>\n",
       "      <td>450.09</td>\n",
       "      <td>2018-05-29</td>\n",
       "    </tr>\n",
       "    <tr>\n",
       "      <th>1</th>\n",
       "      <td>2</td>\n",
       "      <td>Dog</td>\n",
       "      <td>3</td>\n",
       "      <td>666.66</td>\n",
       "      <td>2018-06-01</td>\n",
       "    </tr>\n",
       "    <tr>\n",
       "      <th>2</th>\n",
       "      <td>3</td>\n",
       "      <td>peacock</td>\n",
       "      <td>1</td>\n",
       "      <td>100.00</td>\n",
       "      <td>2018-06-04</td>\n",
       "    </tr>\n",
       "    <tr>\n",
       "      <th>3</th>\n",
       "      <td>4</td>\n",
       "      <td>Parrot</td>\n",
       "      <td>2</td>\n",
       "      <td>50.00</td>\n",
       "      <td>2018-06-04</td>\n",
       "    </tr>\n",
       "    <tr>\n",
       "      <th>4</th>\n",
       "      <td>5</td>\n",
       "      <td>Dog</td>\n",
       "      <td>1</td>\n",
       "      <td>75.75</td>\n",
       "      <td>2018-06-10</td>\n",
       "    </tr>\n",
       "  </tbody>\n",
       "</table>\n",
       "</div>"
      ],
      "text/plain": [
       "   ID   Animal  Quantity    cost  rescuedate\n",
       "0   1      Cat         9  450.09  2018-05-29\n",
       "1   2      Dog         3  666.66  2018-06-01\n",
       "2   3  peacock         1  100.00  2018-06-04\n",
       "3   4   Parrot         2   50.00  2018-06-04\n",
       "4   5      Dog         1   75.75  2018-06-10"
      ]
     },
     "execution_count": 47,
     "metadata": {},
     "output_type": "execute_result"
    }
   ],
   "source": [
    "# Delete Statement\n",
    "cursor.execute(\"delete from PET where ID = 6\")\n",
    "result = pd.read_sql('select * from PET',connection)\n",
    "result"
   ]
  },
  {
   "cell_type": "markdown",
   "id": "dcf94153",
   "metadata": {},
   "source": [
    "# "
   ]
  },
  {
   "cell_type": "markdown",
   "id": "5a7560b9",
   "metadata": {},
   "source": [
    "### Primary Key & Foreign key\n",
    "\n",
    "-Primary key uniquely identifies each touple or row in a table, preventing Duplication of data and providing a way of defining relationship betn tables.\n",
    "\n",
    "-Tables are also contain foreign keys which are primary keys defined in other tables, creating a link betn tables."
   ]
  },
  {
   "cell_type": "code",
   "execution_count": 8,
   "id": "adadb33f",
   "metadata": {},
   "outputs": [
    {
     "data": {
      "text/plain": [
       "True"
      ]
     },
     "execution_count": 8,
     "metadata": {},
     "output_type": "execute_result"
    }
   ],
   "source": [
    "cursor.close()"
   ]
  },
  {
   "cell_type": "code",
   "execution_count": null,
   "id": "c89b2d22",
   "metadata": {},
   "outputs": [],
   "source": []
  }
 ],
 "metadata": {
  "kernelspec": {
   "display_name": "Python 3",
   "language": "python",
   "name": "python3"
  },
  "language_info": {
   "codemirror_mode": {
    "name": "ipython",
    "version": 3
   },
   "file_extension": ".py",
   "mimetype": "text/x-python",
   "name": "python",
   "nbconvert_exporter": "python",
   "pygments_lexer": "ipython3",
   "version": "3.8.8"
  }
 },
 "nbformat": 4,
 "nbformat_minor": 5
}
